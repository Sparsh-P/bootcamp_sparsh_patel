{
 "cells": [
  {
   "cell_type": "code",
   "execution_count": 1,
   "id": "8da2d3f0",
   "metadata": {},
   "outputs": [
    {
     "name": "stdout",
     "output_type": "stream",
     "text": [
      "[1, 5, 9] [3, 5, 7]\n"
     ]
    }
   ],
   "source": [
    "mat = [[1,2,3],[4,5,6],[7,8,9]]\n",
    "\n",
    "left_diagonal = [mat[i][i] for i in range(len(mat))]\n",
    "right_diagonal = [mat[i][len(mat)-1-i] for i in range(len(mat))]\n",
    "print(left_diagonal, right_diagonal)"
   ]
  },
  {
   "cell_type": "code",
   "execution_count": null,
   "id": "bc695996",
   "metadata": {},
   "outputs": [],
   "source": [
    "mat = [[1,2,3],[4,5,6],[7,8,9]]\n",
    "left,right,top,bottom = 0,0,0,0\n",
    "n = len(mat)\n",
    "\n"
   ]
  },
  {
   "cell_type": "code",
   "execution_count": null,
   "id": "d522ed9d",
   "metadata": {},
   "outputs": [
    {
     "ename": "IndexError",
     "evalue": "list index out of range",
     "output_type": "error",
     "traceback": [
      "\u001b[0;31m---------------------------------------------------------------------------\u001b[0m",
      "\u001b[0;31mIndexError\u001b[0m                                Traceback (most recent call last)",
      "Cell \u001b[0;32mIn[9], line 10\u001b[0m\n\u001b[1;32m      8\u001b[0m direction \u001b[38;5;241m=\u001b[39m \u001b[38;5;241m1\u001b[39m\n\u001b[1;32m      9\u001b[0m \u001b[38;5;28;01mfor\u001b[39;00m _ \u001b[38;5;129;01min\u001b[39;00m \u001b[38;5;28mrange\u001b[39m(m\u001b[38;5;241m*\u001b[39mn):\n\u001b[0;32m---> 10\u001b[0m     result\u001b[38;5;241m.\u001b[39mappend(\u001b[43mmat\u001b[49m\u001b[43m[\u001b[49m\u001b[43mrow\u001b[49m\u001b[43m]\u001b[49m\u001b[43m[\u001b[49m\u001b[43mcolumn\u001b[49m\u001b[43m]\u001b[49m)\n\u001b[1;32m     11\u001b[0m     \u001b[38;5;28;01mif\u001b[39;00m direction \u001b[38;5;241m==\u001b[39m\u001b[38;5;241m1\u001b[39m:\n\u001b[1;32m     12\u001b[0m         row \u001b[38;5;241m-\u001b[39m\u001b[38;5;241m=\u001b[39m\u001b[38;5;241m1\u001b[39m\n",
      "\u001b[0;31mIndexError\u001b[0m: list index out of range"
     ]
    }
   ],
   "source": [
    "mat = [[1,2,3],[4,5,6],[7,8,9]]\n",
    "m = len(mat)\n",
    "n=len(mat[0])\n",
    "result =[]\n",
    "row=0\n",
    "column=0\n",
    "\n",
    "direction = 1\n",
    "for _ in range(m*n):\n",
    "    result.append(mat[row][column])\n",
    "    if direction ==1:\n",
    "        row -=1\n",
    "        column +=1\n",
    "    \n",
    "    else:\n",
    "    \n",
    "        row +=1\n",
    "        column -=1\n",
    "        \n",
    "    if row < 0:\n",
    "        row = 0\n",
    "        direction = -1   # switch to down-left\n",
    "    \n",
    "    if column <0:\n",
    "        column =0\n",
    "        direrction =1  # switch to up-right\n",
    "    \n",
    "    if column == n:\n",
    "        column =n--1\n",
    "        direction = -1  # switch to down-left\n",
    "    \n",
    "    if row == m:\n",
    "        row = m-1\n",
    "        direction = 1\n",
    "\n",
    "return result"
   ]
  },
  {
   "cell_type": "code",
   "execution_count": 14,
   "id": "75ccaf77",
   "metadata": {},
   "outputs": [
    {
     "name": "stdout",
     "output_type": "stream",
     "text": [
      "[1, 2, 4, 7, 5, 3, 6, 8, 9]\n"
     ]
    }
   ],
   "source": [
    "mat = [[1,2,3],[4,5,6],[7,8,9]]\n",
    "m = len(mat)\n",
    "n=len(mat[0])\n",
    "result =[]\n",
    "row=0\n",
    "col=0\n",
    "\n",
    "direction = 1\n",
    "while len(result) < m * n:\n",
    "    result.append(mat[row][col])   # take current element\n",
    "\n",
    "    # move according to direction\n",
    "    if direction == 1:   # up-right\n",
    "        row -= 1\n",
    "        col += 1\n",
    "    else:                # down-left\n",
    "        row += 1\n",
    "        col -= 1\n",
    "\n",
    "    # check boundaries\n",
    "    if row < 0 and col < n:   # passed top\n",
    "        row = 0\n",
    "        direction = -1\n",
    "\n",
    "    elif col < 0 and row < m: # passed left\n",
    "        col = 0\n",
    "        direction = 1\n",
    "\n",
    "    elif col == n:            # passed right\n",
    "        col = n - 1\n",
    "        row += 2\n",
    "        direction = -1\n",
    "\n",
    "    elif row == m:            # passed bottom\n",
    "        row = m - 1\n",
    "        col += 2\n",
    "        direction = 1\n",
    "\n",
    "print(result)"
   ]
  },
  {
   "cell_type": "code",
   "execution_count": null,
   "id": "35be2d3f",
   "metadata": {},
   "outputs": [],
   "source": []
  }
 ],
 "metadata": {
  "kernelspec": {
   "display_name": "Python 3",
   "language": "python",
   "name": "python3"
  },
  "language_info": {
   "codemirror_mode": {
    "name": "ipython",
    "version": 3
   },
   "file_extension": ".py",
   "mimetype": "text/x-python",
   "name": "python",
   "nbconvert_exporter": "python",
   "pygments_lexer": "ipython3",
   "version": "3.10.2"
  }
 },
 "nbformat": 4,
 "nbformat_minor": 5
}
