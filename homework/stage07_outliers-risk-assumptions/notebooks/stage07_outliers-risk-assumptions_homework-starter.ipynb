{
  "cells": [
    {
      "cell_type": "markdown",
      "id": "3848df1c",
      "metadata": {},
      "source": [
        "# Setup: Generate Sample Dataset\n",
        "Sparsh Patel 08/20/2025\n",
        "\n",
        "This cell creates the required folder structure (`data/raw/` and `data/processed/`) relative to the notebook, and generates the sample CSV dataset with missing values. \n",
        "This ensures the dataset is ready for cleaning functions and saves it to `data/raw/outliers_homework.csv`."
      ]
    },
    {
      "cell_type": "code",
      "execution_count": 145,
      "id": "72b213a9",
      "metadata": {},
      "outputs": [
        {
          "name": "stdout",
          "output_type": "stream",
          "text": [
            "/Users/sparshpatel/bootcamp_sparsh_patel/homework/homework7\n"
          ]
        }
      ],
      "source": [
        "import os\n",
        "os.chdir('/Users/sparshpatel/bootcamp_sparsh_patel/homework/homework7')\n",
        "print(os.getcwd())"
      ]
    },
    {
      "cell_type": "markdown",
      "id": "f60f52f2",
      "metadata": {},
      "source": [
        "## Original data generation code, not used \n",
        "- This data gives us a near perfect correlation between the two datasets, which is not good for our regression analysis. So I have tweaked the code in order to make the two datasets feel quite apart."
      ]
    },
    {
      "cell_type": "code",
      "execution_count": null,
      "id": "6c50b376",
      "metadata": {},
      "outputs": [],
      "source": [
        "# import os\n",
        "# import numpy as np\n",
        "# import pandas as pd\n",
        "\n",
        "# # Define folder paths relative to this notebook\n",
        "# raw_dir = '/Users/sparshpatel/bootcamp_sparsh_patel/homework/homework7/data/raw'\n",
        "# processed_dir = '/Users/sparshpatel/bootcamp_sparsh_patel/homework/homework7/data/processed'\n",
        "\n",
        "# # Create folders if they don't exist\n",
        "# os.makedirs(raw_dir, exist_ok=True)\n",
        "# os.makedirs(processed_dir, exist_ok=True)\n",
        "\n",
        "# # Generate business day dates\n",
        "# dates = pd.date_range(start=\"2022-01-03\", end=\"2022-06-10\", freq=\"B\")\n",
        "\n",
        "# # Fixed random seed for reproducibility\n",
        "# np.random.seed(7264)\n",
        "\n",
        "# # Column 1: daily_return ~ N(0, 0.01)\n",
        "# returns = np.random.normal(0, 0.01, size=len(dates))\n",
        "# mask_pre_may = dates < \"2022-05-01\"\n",
        "# returns[mask_pre_may] -= 0.0015  \n",
        "\n",
        "# # Inject \"shock\" values\n",
        "# shock_values = {\n",
        "#     \"2022-05-02\": 0.1748425237194541,\n",
        "#     \"2022-05-03\": -0.16825801732486943,\n",
        "#     \"2022-05-06\": -0.19667220757153227,\n",
        "#     \"2022-05-09\": 0.21240223590614747,\n",
        "#     \"2022-05-12\": -0.178729287231294\n",
        "# }\n",
        "# for d, v in shock_values.items():\n",
        "#     idx = np.where(dates == pd.to_datetime(d))[0][0]\n",
        "#     returns[idx] = v\n",
        "\n",
        "# # Column 2: daily_return_2, correlated with daily_return + small noise\n",
        "# daily_return_2 = returns * 0.6 + np.random.normal(0, 0.005, size=len(dates))\n",
        "\n",
        "# # Create DataFrame with two numeric columns\n",
        "# df = pd.DataFrame({\n",
        "#     \"date\": dates,\n",
        "#     \"daily_return\": returns,\n",
        "#     \"daily_return_2\": daily_return_2\n",
        "# })\n",
        "\n",
        "# # Save to CSV in raw data folder\n",
        "# csv_path = os.path.join(raw_dir, 'outliers_homework_original.csv')\n",
        "# if not os.path.exists(csv_path):\n",
        "#     df.to_csv(csv_path, index=False)\n",
        "#     print(f'Synthetic dataset with two columns created and saved to {csv_path}')\n",
        "# else:\n",
        "#     print(f'File already exists at {csv_path}. Skipping CSV creation to avoid overwrite.')"
      ]
    },
    {
      "cell_type": "markdown",
      "id": "e5d80c9d",
      "metadata": {},
      "source": [
        "## Updated random generation logic to get bet better regression outputs\n",
        "- Here I have injected outliers only to one of the columns in order to break the correlation between the two columns"
      ]
    },
    {
      "cell_type": "code",
      "execution_count": 147,
      "id": "12bac6b8",
      "metadata": {},
      "outputs": [
        {
          "name": "stdout",
          "output_type": "stream",
          "text": [
            "Synthetic dataset created and saved to /Users/sparshpatel/bootcamp_sparsh_patel/homework/homework7/data/raw/outliers_homework.csv\n"
          ]
        }
      ],
      "source": [
        "import os\n",
        "import numpy as np\n",
        "import pandas as pd\n",
        "\n",
        "\n",
        "raw_dir = '/Users/sparshpatel/bootcamp_sparsh_patel/homework/homework7/data/raw'\n",
        "processed_dir = '/Users/sparshpatel/bootcamp_sparsh_patel/homework/homework7/data/processed'\n",
        "\n",
        "\n",
        "os.makedirs(raw_dir, exist_ok=True)\n",
        "os.makedirs(processed_dir, exist_ok=True)\n",
        "\n",
        "\n",
        "dates = pd.date_range(start=\"2022-01-03\", end=\"2022-06-10\", freq=\"B\")\n",
        "\n",
        "\n",
        "np.random.seed(74)\n",
        "\n",
        "\n",
        "returns = np.random.normal(0, 0.01, size=len(dates))\n",
        "\n",
        "# Column 2: Strongly correlated with daily_return + small noise\n",
        "# True relationship: daily_return_2 ≈ 0.9 * daily_return\n",
        "daily_return_2 = 0.9 * returns + np.random.normal(0, 0.002, size=len(dates))\n",
        "\n",
        "# Inject outliers ONLY in daily_return to \"break\" correlation\n",
        "outlier_idx = np.random.choice(len(dates), size=8, replace=False)\n",
        "returns[outlier_idx] += np.random.choice([0.15, -0.15, 0.2, -0.2], size=8)\n",
        "\n",
        "\n",
        "df = pd.DataFrame({\n",
        "    \"date\": dates,\n",
        "    \"daily_return\": returns,\n",
        "    \"daily_return_2\": daily_return_2\n",
        "})\n",
        "\n",
        "csv_path = os.path.join(raw_dir, 'outliers_homework.csv')\n",
        "if not os.path.exists(csv_path):\n",
        "    df.to_csv(csv_path, index=False)\n",
        "    print(f'Synthetic dataset created and saved to {csv_path}')\n",
        "else:\n",
        "    print(f'File already exists at {csv_path}. Skipping CSV creation to avoid overwrite.')\n"
      ]
    },
    {
      "cell_type": "markdown",
      "metadata": {},
      "source": [
        "# Stage 7 Homework — Outliers + Risk Assumptions\n",
        "In this assignment you will implement outlier detection/handling and run a simple sensitivity analysis.\n",
        "\n",
        "**Chain:** In the lecture, we learned detection (IQR, Z-score), options for handling (remove/winsorize), and sensitivity testing. Now, you will adapt those methods to a provided dataset and document the risks and assumptions behind your choices."
      ]
    },
    {
      "cell_type": "code",
      "execution_count": 148,
      "metadata": {},
      "outputs": [],
      "source": [
        "# Setup\n",
        "import numpy as np\n",
        "import pandas as pd\n",
        "import matplotlib.pyplot as plt\n",
        "from pathlib import Path\n",
        "from sklearn.linear_model import LinearRegression\n",
        "from sklearn.metrics import mean_absolute_error, r2_score\n",
        "np.random.seed(7264)"
      ]
    },
    {
      "cell_type": "markdown",
      "metadata": {},
      "source": [
        "## Load Data (provided or synthetic fallback)"
      ]
    },
    {
      "cell_type": "code",
      "execution_count": 149,
      "metadata": {},
      "outputs": [
        {
          "data": {
            "text/html": [
              "<div>\n",
              "<style scoped>\n",
              "    .dataframe tbody tr th:only-of-type {\n",
              "        vertical-align: middle;\n",
              "    }\n",
              "\n",
              "    .dataframe tbody tr th {\n",
              "        vertical-align: top;\n",
              "    }\n",
              "\n",
              "    .dataframe thead th {\n",
              "        text-align: right;\n",
              "    }\n",
              "</style>\n",
              "<table border=\"1\" class=\"dataframe\">\n",
              "  <thead>\n",
              "    <tr style=\"text-align: right;\">\n",
              "      <th></th>\n",
              "      <th>date</th>\n",
              "      <th>daily_return</th>\n",
              "      <th>daily_return_2</th>\n",
              "    </tr>\n",
              "  </thead>\n",
              "  <tbody>\n",
              "    <tr>\n",
              "      <th>0</th>\n",
              "      <td>2022-01-03</td>\n",
              "      <td>0.006083</td>\n",
              "      <td>0.006021</td>\n",
              "    </tr>\n",
              "    <tr>\n",
              "      <th>1</th>\n",
              "      <td>2022-01-04</td>\n",
              "      <td>-0.006367</td>\n",
              "      <td>-0.005485</td>\n",
              "    </tr>\n",
              "    <tr>\n",
              "      <th>2</th>\n",
              "      <td>2022-01-05</td>\n",
              "      <td>-0.004089</td>\n",
              "      <td>-0.003654</td>\n",
              "    </tr>\n",
              "    <tr>\n",
              "      <th>3</th>\n",
              "      <td>2022-01-06</td>\n",
              "      <td>0.008525</td>\n",
              "      <td>0.007817</td>\n",
              "    </tr>\n",
              "    <tr>\n",
              "      <th>4</th>\n",
              "      <td>2022-01-07</td>\n",
              "      <td>0.007375</td>\n",
              "      <td>0.005903</td>\n",
              "    </tr>\n",
              "  </tbody>\n",
              "</table>\n",
              "</div>"
            ],
            "text/plain": [
              "         date  daily_return  daily_return_2\n",
              "0  2022-01-03      0.006083        0.006021\n",
              "1  2022-01-04     -0.006367       -0.005485\n",
              "2  2022-01-05     -0.004089       -0.003654\n",
              "3  2022-01-06      0.008525        0.007817\n",
              "4  2022-01-07      0.007375        0.005903"
            ]
          },
          "execution_count": 149,
          "metadata": {},
          "output_type": "execute_result"
        }
      ],
      "source": [
        "data_path = Path('/Users/sparshpatel/bootcamp_sparsh_patel/homework/homework7/data/raw/outliers_homework.csv')\n",
        "if data_path.exists():\n",
        "    df = pd.read_csv(data_path)\n",
        "else:\n",
        "    # Synthetic fallback: linear trend with noise and a few extremes\n",
        "    x = np.linspace(0, 10, 200)\n",
        "    y = 2.2 * x + 1 + np.random.normal(0, 1.2, size=x.size)\n",
        "    y[10] += 15; y[120] -= 13; y[160] += 18\n",
        "    df = pd.DataFrame({'x': x, 'y': y})\n",
        "df.head()"
      ]
    },
    {
      "cell_type": "markdown",
      "id": "b4f17d1f",
      "metadata": {},
      "source": [
        "The fallback is not use in my case as I have generated my own data above beforehand. "
      ]
    },
    {
      "cell_type": "markdown",
      "metadata": {},
      "source": [
        "## TODO: Implement Outlier Functions "
      ]
    },
    {
      "cell_type": "code",
      "execution_count": 150,
      "metadata": {
        "tags": [
          "grade_required"
        ]
      },
      "outputs": [],
      "source": [
        "def detect_outliers_iqr(series: pd.Series, k: float = 1.5) -> pd.Series:\n",
        "    \"\"\"Return boolean mask for IQR-based outliers.\n",
        "    Assumptions: distribution reasonably summarized by quartiles; k controls strictness.\n",
        "    \"\"\"\n",
        "    q1 = series.quantile(0.25)\n",
        "    q3 = series.quantile(0.75)\n",
        "    iqr = q3 - q1\n",
        "    lower = q1 - k * iqr\n",
        "    upper = q3 + k * iqr\n",
        "    return (series < lower) | (series > upper)\n",
        "\n",
        "def detect_outliers_zscore(series: pd.Series, threshold: float = 3.0) -> pd.Series:\n",
        "    \"\"\"Return boolean mask for Z-score outliers where |z| > threshold.\n",
        "    Assumptions: roughly normal distribution; sensitive to heavy tails.\n",
        "    \"\"\"\n",
        "    mu = series.mean()\n",
        "    sigma = series.std(ddof=0)\n",
        "    z = (series - mu) / (sigma if sigma != 0 else 1.0)\n",
        "    return z.abs() > threshold"
      ]
    },
    {
      "cell_type": "markdown",
      "metadata": {},
      "source": [
        "### Implementing winsorizing "
      ]
    },
    {
      "cell_type": "code",
      "execution_count": 151,
      "metadata": {
        "tags": [
          "stretch"
        ]
      },
      "outputs": [],
      "source": [
        "def winsorize_series(series: pd.Series, lower: float = 0.05, upper: float = 0.95) -> pd.Series:\n",
        "    lo = series.quantile(lower)\n",
        "    hi = series.quantile(upper)\n",
        "    return series.clip(lower=lo, upper=hi)"
      ]
    },
    {
      "cell_type": "markdown",
      "metadata": {},
      "source": [
        "## Apply Detection and Create Flags \n",
        "- Chose the daily return 2 to detect and mark outliers of"
      ]
    },
    {
      "cell_type": "code",
      "execution_count": 152,
      "metadata": {
        "tags": [
          "grade_required"
        ]
      },
      "outputs": [
        {
          "data": {
            "text/plain": [
              "outlier_iqr    0.017391\n",
              "outlier_z      0.008696\n",
              "dtype: float64"
            ]
          },
          "execution_count": 152,
          "metadata": {},
          "output_type": "execute_result"
        }
      ],
      "source": [
        "target_col = 'daily_return_2' if 'daily_return_2' in df.columns else df.select_dtypes(include=['number']).columns[0]\n",
        "df['outlier_iqr'] = detect_outliers_iqr(df[target_col])\n",
        "df['outlier_z'] = detect_outliers_zscore(df[target_col], threshold=3.0)\n",
        "df[['outlier_iqr', 'outlier_z']].mean()  # fraction flagged"
      ]
    },
    {
      "cell_type": "markdown",
      "metadata": {},
      "source": [
        "### Visual Checks (boxplot / histogram)"
      ]
    },
    {
      "cell_type": "code",
      "execution_count": 153,
      "metadata": {},
      "outputs": [
        {
          "data": {
            "image/png": "[encoded data removed]",
            "text/plain": [
              "<Figure size 432x288 with 1 Axes>"
            ]
          },
          "metadata": {
            "needs_background": "light"
          },
          "output_type": "display_data"
        },
        {
          "data": {
            "image/png": "[encoded data removed]",
            "text/plain": [
              "<Figure size 432x288 with 1 Axes>"
            ]
          },
          "metadata": {
            "needs_background": "light"
          },
          "output_type": "display_data"
        },
        {
          "data": {
            "image/png": "[encoded data removed]",
            "text/plain": [
              "<Figure size 432x288 with 1 Axes>"
            ]
          },
          "metadata": {
            "needs_background": "light"
          },
          "output_type": "display_data"
        },
        {
          "data": {
            "image/png": "[encoded data removed]",
            "text/plain": [
              "<Figure size 432x288 with 1 Axes>"
            ]
          },
          "metadata": {
            "needs_background": "light"
          },
          "output_type": "display_data"
        }
      ],
      "source": [
        "plt.figure()\n",
        "plt.boxplot(df[target_col])\n",
        "plt.title(f'Boxplot: {target_col}')\n",
        "plt.show()\n",
        "\n",
        "plt.figure()\n",
        "plt.hist(df[target_col], bins=30)\n",
        "plt.title(f'Histogram: {target_col}')\n",
        "plt.show()\n",
        "\n",
        "plt.figure()\n",
        "plt.boxplot(df['daily_return'])\n",
        "plt.title(f'Boxplot: daily_return')\n",
        "plt.show()\n",
        "\n",
        "plt.figure()\n",
        "plt.hist(df['daily_return'], bins=30)\n",
        "plt.title(f'Histogram: daily_return')\n",
        "plt.show()"
      ]
    },
    {
      "cell_type": "markdown",
      "id": "8d8837c0",
      "metadata": {},
      "source": [
        "Here we come to know that:\n",
        "- Daily return 2 is generalised and has values that look normally distributed\n",
        "- Daily return column is densely populated around a small range with a few extreme outliers"
      ]
    },
    {
      "cell_type": "markdown",
      "metadata": {},
      "source": [
        "## Sensitivity Analysis\n",
        "Performed both summary stats and simple linear regression comparing **all vs. filtered** "
      ]
    },
    {
      "cell_type": "markdown",
      "id": "ce658fb3",
      "metadata": {},
      "source": [
        "### Summary Stats"
      ]
    },
    {
      "cell_type": "code",
      "execution_count": null,
      "metadata": {
        "tags": [
          "grade_required"
        ]
      },
      "outputs": [
        {
          "data": {
            "text/html": [
              "<div>\n",
              "<style scoped>\n",
              "    .dataframe tbody tr th:only-of-type {\n",
              "        vertical-align: middle;\n",
              "    }\n",
              "\n",
              "    .dataframe tbody tr th {\n",
              "        vertical-align: top;\n",
              "    }\n",
              "\n",
              "    .dataframe thead th {\n",
              "        text-align: right;\n",
              "    }\n",
              "</style>\n",
              "<table border=\"1\" class=\"dataframe\">\n",
              "  <thead>\n",
              "    <tr style=\"text-align: right;\">\n",
              "      <th></th>\n",
              "      <th>all</th>\n",
              "      <th>filtered_iqr</th>\n",
              "      <th>winsorized</th>\n",
              "    </tr>\n",
              "  </thead>\n",
              "  <tbody>\n",
              "    <tr>\n",
              "      <th>mean</th>\n",
              "      <td>0.001023</td>\n",
              "      <td>0.000992</td>\n",
              "      <td>0.001084</td>\n",
              "    </tr>\n",
              "    <tr>\n",
              "      <th>median</th>\n",
              "      <td>0.000356</td>\n",
              "      <td>0.000356</td>\n",
              "      <td>0.000356</td>\n",
              "    </tr>\n",
              "    <tr>\n",
              "      <th>std</th>\n",
              "      <td>0.008659</td>\n",
              "      <td>0.008049</td>\n",
              "      <td>0.007755</td>\n",
              "    </tr>\n",
              "  </tbody>\n",
              "</table>\n",
              "</div>"
            ],
            "text/plain": [
              "             all  filtered_iqr  winsorized\n",
              "mean    0.001023      0.000992    0.001084\n",
              "median  0.000356      0.000356    0.000356\n",
              "std     0.008659      0.008049    0.007755"
            ]
          },
          "execution_count": 154,
          "metadata": {},
          "output_type": "execute_result"
        }
      ],
      "source": [
        "\n",
        "summ_all = df[target_col].describe()[['mean', '50%', 'std']].rename({'50%': 'median'})\n",
        "summ_filtered = df.loc[~df['outlier_iqr'], target_col].describe()[['mean', '50%', 'std']].rename({'50%': 'median'})\n",
        "summ_w = None\n",
        "if 'winsorize_series' in globals():\n",
        "    w = winsorize_series(df[target_col])\n",
        "    summ_w = w.describe()[['mean', '50%', 'std']].rename({'50%': 'median'})\n",
        "\n",
        "comp = pd.concat(\n",
        "    {\n",
        "        'all': summ_all,\n",
        "        'filtered_iqr': summ_filtered,\n",
        "        **({'winsorized': summ_w} if summ_w is not None else {})\n",
        "    }, axis=1\n",
        ")\n",
        "comp"
      ]
    },
    {
      "cell_type": "markdown",
      "id": "8139347b",
      "metadata": {},
      "source": [
        "### Simple regression"
      ]
    },
    {
      "cell_type": "code",
      "execution_count": null,
      "id": "4e7df997",
      "metadata": {},
      "outputs": [
        {
          "name": "stdout",
          "output_type": "stream",
          "text": [
            "                 slope  intercept        r2       mae\n",
            "all           0.031638   0.000775  0.033588  0.006798\n",
            "filtered_iqr  0.027082   0.000778  0.028844  0.006484\n",
            "winsorized    0.225155   0.000144  0.247920  0.005453\n"
          ]
        }
      ],
      "source": [
        "\n",
        "if 'daily_return' in df.columns:\n",
        "    # --- Raw data ---\n",
        "    X_all = df[['daily_return']].to_numpy()\n",
        "    y_all = df[target_col].to_numpy()\n",
        "\n",
        "    model_all = LinearRegression().fit(X_all, y_all)\n",
        "    mae_all = mean_absolute_error(y_all, model_all.predict(X_all))\n",
        "\n",
        "    # --- IQR-filtered ---\n",
        "    mask = ~df['outlier_iqr']\n",
        "    X_flt = df.loc[mask, ['daily_return']].to_numpy()\n",
        "    y_flt = df.loc[mask, target_col].to_numpy()\n",
        "\n",
        "    model_flt = LinearRegression().fit(X_flt, y_flt)\n",
        "    mae_flt = mean_absolute_error(y_flt, model_flt.predict(X_flt))\n",
        "\n",
        "    # --- Winsorized ---\n",
        "    X_win = winsorize_series(df['daily_return']).to_numpy().reshape(-1, 1)\n",
        "    y_win = winsorize_series(df[target_col]).to_numpy()\n",
        "\n",
        "    model_win = LinearRegression().fit(X_win, y_win)\n",
        "    mae_win = mean_absolute_error(y_win, model_win.predict(X_win))\n",
        "\n",
        "    # --- Collect results ---\n",
        "    results = pd.DataFrame({\n",
        "        'slope': [model_all.coef_[0], model_flt.coef_[0], model_win.coef_[0]],\n",
        "        'intercept': [model_all.intercept_, model_flt.intercept_, model_win.intercept_],\n",
        "        'r2': [model_all.score(X_all, y_all), model_flt.score(X_flt, y_flt), model_win.score(X_win, y_win)],\n",
        "        'mae': [mae_all, mae_flt, mae_win]\n",
        "    }, index=['all', 'filtered_iqr', 'winsorized'])\n",
        "\n",
        "    print(results)\n",
        "\n",
        "else:\n",
        "    results = None\n",
        "    print(\"No 'daily_return' column; skip regression or engineer features.\")\n"
      ]
    },
    {
      "cell_type": "markdown",
      "metadata": {},
      "source": [
        "### Reflection \n",
        "- Please go through the Readme file for proper documentation\n"
      ]
    }
  ],
  "metadata": {
    "kernelspec": {
      "display_name": "base",
      "language": "python",
      "name": "python3"
    },
    "language_info": {
      "codemirror_mode": {
        "name": "ipython",
        "version": 3
      },
      "file_extension": ".py",
      "mimetype": "text/x-python",
      "name": "python",
      "nbconvert_exporter": "python",
      "pygments_lexer": "ipython3",
      "version": "3.9.18"
    }
  },
  "nbformat": 4,
  "nbformat_minor": 5
}
