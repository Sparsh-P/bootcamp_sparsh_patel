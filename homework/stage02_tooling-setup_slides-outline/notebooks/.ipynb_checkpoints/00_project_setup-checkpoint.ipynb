{
 "cells": [
  {
   "cell_type": "markdown",
   "id": "c10554f5",
   "metadata": {},
   "source": [
    "“Environment & Config Check”"
   ]
  },
  {
   "cell_type": "code",
   "execution_count": 1,
   "id": "baae8acb",
   "metadata": {
    "vscode": {
     "languageId": "plaintext"
    }
   },
   "outputs": [
    {
     "name": "stdout",
     "output_type": "stream",
     "text": [
      "Secrets loaded.\n"
     ]
    }
   ],
   "source": [
    "import sys\n",
    "import numpy as np\n",
    "\n",
    "sys.path.append('../src')\n",
    "\n",
    "from config import load_secrets, get_key\n",
    "\n",
    "load_secrets()"
   ]
  },
  {
   "cell_type": "code",
   "execution_count": 5,
   "id": "dabca449",
   "metadata": {
    "vscode": {
     "languageId": "plaintext"
    }
   },
   "outputs": [
    {
     "name": "stdout",
     "output_type": "stream",
     "text": [
      "API_KEY present: True\n",
      "Array sum: 6\n"
     ]
    }
   ],
   "source": [
    "api_key = get_key()\n",
    "print(f\"API_KEY present: {api_key is not None}\")\n",
    "\n",
    "arr = np.array([1, 2, 3])\n",
    "print(\"Array sum:\", np.sum(arr))"
   ]
  },
  {
   "cell_type": "code",
   "execution_count": null,
   "id": "72f1568c-b451-4af3-81d8-bff0a1bd3bd2",
   "metadata": {},
   "outputs": [],
   "source": []
  },
  {
   "cell_type": "code",
   "execution_count": null,
   "id": "4db69409-7322-4c64-a9e9-42603d3c6846",
   "metadata": {},
   "outputs": [],
   "source": []
  }
 ],
 "metadata": {
  "kernelspec": {
   "display_name": "Python 3 (ipykernel)",
   "language": "python",
   "name": "python3"
  },
  "language_info": {
   "codemirror_mode": {
    "name": "ipython",
    "version": 3
   },
   "file_extension": ".py",
   "mimetype": "text/x-python",
   "name": "python",
   "nbconvert_exporter": "python",
   "pygments_lexer": "ipython3",
   "version": "3.10.18"
  }
 },
 "nbformat": 4,
 "nbformat_minor": 5
}
