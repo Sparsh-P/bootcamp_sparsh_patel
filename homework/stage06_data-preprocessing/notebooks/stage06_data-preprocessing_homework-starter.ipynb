{
 "cells": [
  {
   "cell_type": "markdown",
   "metadata": {},
   "source": [
    "# Homework Starter — Stage 6: Data Preprocessing\n",
    "Sparsh Patel 08/19/2025"
   ]
  },
  {
   "cell_type": "markdown",
   "metadata": {},
   "source": [
    "We start by importing the encessary libraries"
   ]
  },
  {
   "cell_type": "code",
   "execution_count": 3,
   "metadata": {},
   "outputs": [],
   "source": [
    "import pandas as pd\n",
    "from src import cleaning"
   ]
  },
  {
   "cell_type": "markdown",
   "metadata": {},
   "source": [
    "## Load Raw Dataset"
   ]
  },
  {
   "cell_type": "code",
   "execution_count": 52,
   "metadata": {},
   "outputs": [
    {
     "name": "stdout",
     "output_type": "stream",
     "text": [
      "/Users/sparshpatel/bootcamp_sparsh_patel/homework/homework6\n"
     ]
    }
   ],
   "source": [
    "import os\n",
    "os.chdir('/Users/sparshpatel/bootcamp_sparsh_patel/homework/homework6')\n",
    "print(os.getcwd())"
   ]
  },
  {
   "cell_type": "markdown",
   "metadata": {},
   "source": [
    "Make sure that we are in the proper directory"
   ]
  },
  {
   "cell_type": "code",
   "execution_count": 41,
   "metadata": {},
   "outputs": [
    {
     "data": {
      "text/html": [
       "<div>\n",
       "<style scoped>\n",
       "    .dataframe tbody tr th:only-of-type {\n",
       "        vertical-align: middle;\n",
       "    }\n",
       "\n",
       "    .dataframe tbody tr th {\n",
       "        vertical-align: top;\n",
       "    }\n",
       "\n",
       "    .dataframe thead th {\n",
       "        text-align: right;\n",
       "    }\n",
       "</style>\n",
       "<table border=\"1\" class=\"dataframe\">\n",
       "  <thead>\n",
       "    <tr style=\"text-align: right;\">\n",
       "      <th></th>\n",
       "      <th>Symbol</th>\n",
       "      <th>Name</th>\n",
       "      <th>Unnamed: 2</th>\n",
       "      <th>Price</th>\n",
       "      <th>Change</th>\n",
       "      <th>Change %</th>\n",
       "      <th>Volume</th>\n",
       "      <th>Avg vol (3m)</th>\n",
       "      <th>Market cap</th>\n",
       "      <th>P/E Ratio(TTM)</th>\n",
       "      <th>52 WkChange %</th>\n",
       "      <th>52 Wk range</th>\n",
       "    </tr>\n",
       "  </thead>\n",
       "  <tbody>\n",
       "    <tr>\n",
       "      <th>0</th>\n",
       "      <td>OPEN</td>\n",
       "      <td>Opendoor Technologies Inc.</td>\n",
       "      <td>NaN</td>\n",
       "      <td>49</td>\n",
       "      <td>0.13</td>\n",
       "      <td>4.28%</td>\n",
       "      <td>419.367M</td>\n",
       "      <td>199.65M</td>\n",
       "      <td>2.333B</td>\n",
       "      <td>NaN</td>\n",
       "      <td>61.73%</td>\n",
       "      <td>NaN</td>\n",
       "    </tr>\n",
       "    <tr>\n",
       "      <th>1</th>\n",
       "      <td>INTC</td>\n",
       "      <td>Intel Corporation</td>\n",
       "      <td>NaN</td>\n",
       "      <td>31</td>\n",
       "      <td>0.70</td>\n",
       "      <td>2.93%</td>\n",
       "      <td>310.161M</td>\n",
       "      <td>92.134M</td>\n",
       "      <td>107.499B</td>\n",
       "      <td>NaN</td>\n",
       "      <td>14.13%</td>\n",
       "      <td>NaN</td>\n",
       "    </tr>\n",
       "    <tr>\n",
       "      <th>2</th>\n",
       "      <td>NVDA</td>\n",
       "      <td>NVIDIA Corporation</td>\n",
       "      <td>NaN</td>\n",
       "      <td>56</td>\n",
       "      <td>-1.57</td>\n",
       "      <td>-0.86%</td>\n",
       "      <td>156.602M</td>\n",
       "      <td>182.258M</td>\n",
       "      <td>4.401T</td>\n",
       "      <td>58.21</td>\n",
       "      <td>38.81%</td>\n",
       "      <td>NaN</td>\n",
       "    </tr>\n",
       "    <tr>\n",
       "      <th>3</th>\n",
       "      <td>NU</td>\n",
       "      <td>Nu Holdings Ltd.</td>\n",
       "      <td>NaN</td>\n",
       "      <td>84</td>\n",
       "      <td>1.09</td>\n",
       "      <td>9.08%</td>\n",
       "      <td>130.401M</td>\n",
       "      <td>63.181M</td>\n",
       "      <td>63.304B</td>\n",
       "      <td>27.87</td>\n",
       "      <td>-9.34%</td>\n",
       "      <td>NaN</td>\n",
       "    </tr>\n",
       "    <tr>\n",
       "      <th>4</th>\n",
       "      <td>WULF</td>\n",
       "      <td>TeraWulf Inc.</td>\n",
       "      <td>NaN</td>\n",
       "      <td>68</td>\n",
       "      <td>0.26</td>\n",
       "      <td>2.99%</td>\n",
       "      <td>108.16M</td>\n",
       "      <td>51.801M</td>\n",
       "      <td>3.518B</td>\n",
       "      <td>NaN</td>\n",
       "      <td>106.21%</td>\n",
       "      <td>NaN</td>\n",
       "    </tr>\n",
       "  </tbody>\n",
       "</table>\n",
       "</div>"
      ],
      "text/plain": [
       "  Symbol                        Name  Unnamed: 2  Price  Change Change %  \\\n",
       "0   OPEN  Opendoor Technologies Inc.         NaN     49    0.13    4.28%   \n",
       "1   INTC           Intel Corporation         NaN     31    0.70    2.93%   \n",
       "2   NVDA          NVIDIA Corporation         NaN     56   -1.57   -0.86%   \n",
       "3     NU            Nu Holdings Ltd.         NaN     84    1.09    9.08%   \n",
       "4   WULF               TeraWulf Inc.         NaN     68    0.26    2.99%   \n",
       "\n",
       "     Volume Avg vol (3m) Market cap  P/E Ratio(TTM) 52 WkChange %  52 Wk range  \n",
       "0  419.367M      199.65M     2.333B             NaN        61.73%          NaN  \n",
       "1  310.161M      92.134M   107.499B             NaN        14.13%          NaN  \n",
       "2  156.602M     182.258M     4.401T           58.21        38.81%          NaN  \n",
       "3  130.401M      63.181M    63.304B           27.87        -9.34%          NaN  \n",
       "4   108.16M      51.801M     3.518B             NaN       106.21%          NaN  "
      ]
     },
     "execution_count": 41,
     "metadata": {},
     "output_type": "execute_result"
    }
   ],
   "source": [
    "df = pd.read_csv('/Users/sparshpatel/bootcamp_sparsh_patel/homework/homework6/data/raw/raw_data3.csv')\n",
    "df.head()"
   ]
  },
  {
   "cell_type": "markdown",
   "metadata": {},
   "source": [
    "Here, I have taken the scraped table from project 4, which was done through beautifulsoup"
   ]
  },
  {
   "cell_type": "markdown",
   "metadata": {},
   "source": [
    "## Apply Cleaning Functions"
   ]
  },
  {
   "cell_type": "code",
   "execution_count": 60,
   "metadata": {},
   "outputs": [],
   "source": [
    "df_cleaned = df.copy()"
   ]
  },
  {
   "cell_type": "markdown",
   "metadata": {},
   "source": [
    "Made a copy of the original data set"
   ]
  },
  {
   "cell_type": "code",
   "execution_count": 61,
   "metadata": {},
   "outputs": [
    {
     "name": "stdout",
     "output_type": "stream",
     "text": [
      "Dropped columns: Unnamed: 2 and 52 Wk range\n"
     ]
    }
   ],
   "source": [
    "df_cleaned=df_cleaned.drop(columns=['Unnamed: 2','52 Wk range'])\n",
    "print(\"Dropped columns: Unnamed: 2 and 52 Wk range\")"
   ]
  },
  {
   "cell_type": "code",
   "execution_count": 48,
   "metadata": {},
   "outputs": [
    {
     "name": "stdout",
     "output_type": "stream",
     "text": [
      "Filled 13 missing values in 'P/E Ratio(TTM)' with median: 31.48\n"
     ]
    }
   ],
   "source": [
    "df_cleaned = cleaning.fill_missing_median(df, ['P/E Ratio(TTM)'])"
   ]
  },
  {
   "cell_type": "code",
   "execution_count": 49,
   "metadata": {},
   "outputs": [
    {
     "data": {
      "text/plain": [
       "0"
      ]
     },
     "execution_count": 49,
     "metadata": {},
     "output_type": "execute_result"
    }
   ],
   "source": [
    "df_cleaned['P/E Ratio(TTM)'].isna().sum()"
   ]
  },
  {
   "cell_type": "markdown",
   "metadata": {},
   "source": [
    "We can see that all the null values havee been dropped"
   ]
  },
  {
   "cell_type": "code",
   "execution_count": 44,
   "metadata": {},
   "outputs": [
    {
     "name": "stdout",
     "output_type": "stream",
     "text": [
      "Dropped 0 rows with <70.0% non-null values\n"
     ]
    }
   ],
   "source": [
    "df_cleaned = cleaning.drop_missing(df, threshold=0.7)"
   ]
  },
  {
   "cell_type": "code",
   "execution_count": 45,
   "metadata": {},
   "outputs": [
    {
     "name": "stdout",
     "output_type": "stream",
     "text": [
      "Normalized 'Price' to range [0, 1]\n",
      "Normalized 'Change' to range [0, 1]\n"
     ]
    }
   ],
   "source": [
    "df_cleaned = cleaning.normalize_data(df, ['Price','Change'])"
   ]
  },
  {
   "cell_type": "code",
   "execution_count": 57,
   "metadata": {},
   "outputs": [
    {
     "name": "stdout",
     "output_type": "stream",
     "text": [
      "COMPARISON: Original vs Cleaned\n",
      "========================================\n",
      "Shape: (25, 12) -> (25, 10)\n",
      "Missing values: 63 -> 0\n",
      "\n",
      "Missing values by column:\n",
      "Original:\n",
      "Unnamed: 2        25\n",
      "P/E Ratio(TTM)    13\n",
      "52 Wk range       25\n",
      "dtype: int64\n",
      "\n",
      "Cleaned:\n",
      "Series([], dtype: int64)\n",
      "\n",
      "Sample statistics (before/after):\n",
      "Price: 52.36 -> 52.36\n",
      "Change: 0.62 -> 0.62\n"
     ]
    }
   ],
   "source": [
    "print(\"COMPARISON: Original vs Cleaned\")\n",
    "print(\"=\" * 40)\n",
    "print(f\"Shape: {df.shape} -> {df_cleaned.shape}\")\n",
    "print(f\"Missing values: {df.isna().sum().sum()} -> {df_cleaned.isna().sum().sum()}\")\n",
    "\n",
    "print(\"\\nMissing values by column:\")\n",
    "print(\"Original:\")\n",
    "print(df.isna().sum()[df.isna().sum() > 0])\n",
    "print(\"\\nCleaned:\")  \n",
    "print(df_cleaned.isna().sum()[df_cleaned.isna().sum() > 0])\n",
    "\n",
    "print(\"\\nSample statistics (before/after):\")\n",
    "for col in ['Price', 'Change']:\n",
    "    if col in df.columns and col in df_cleaned.columns:\n",
    "        print(f\"{col}: {df[col].mean():.2f} -> {df_cleaned[col].mean():.2f}\")"
   ]
  },
  {
   "cell_type": "markdown",
   "metadata": {},
   "source": [
    "We can see here that all the missing values have been cleaned. And the Price and change values have been normalised"
   ]
  },
  {
   "cell_type": "markdown",
   "metadata": {},
   "source": [
    "## Save Cleaned Dataset"
   ]
  },
  {
   "cell_type": "code",
   "execution_count": 54,
   "metadata": {},
   "outputs": [],
   "source": [
    "df.to_csv('/Users/sparshpatel/bootcamp_sparsh_patel/homework/homework6/data/processed/sample_data_cleaned.csv', index=False)"
   ]
  },
  {
   "cell_type": "markdown",
   "metadata": {},
   "source": [
    "Successfully saved the data set to the data processed folder. "
   ]
  }
 ],
 "metadata": {
  "kernelspec": {
   "display_name": "base",
   "language": "python",
   "name": "python3"
  },
  "language_info": {
   "codemirror_mode": {
    "name": "ipython",
    "version": 3
   },
   "file_extension": ".py",
   "mimetype": "text/x-python",
   "name": "python",
   "nbconvert_exporter": "python",
   "pygments_lexer": "ipython3",
   "version": "3.9.18"
  }
 },
 "nbformat": 4,
 "nbformat_minor": 2
}
