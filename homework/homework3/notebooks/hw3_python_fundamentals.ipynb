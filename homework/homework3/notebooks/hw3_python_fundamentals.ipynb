{
 "cells": [
  {
   "cell_type": "markdown",
   "id": "03e6fbe5",
   "metadata": {},
   "source": [
    "## Let's Look at some numpy and pandas operation"
   ]
  },
  {
   "cell_type": "code",
   "execution_count": null,
   "id": "58c9bc02",
   "metadata": {},
   "outputs": [
    {
     "name": "stdout",
     "output_type": "stream",
     "text": [
      "Original: [1 2 3 4 5]\n",
      "Add 5: [ 6  7  8  9 10]\n",
      "Multiply by 2: [ 2  4  6  8 10]\n",
      "Squared: [ 1  4  9 16 25]\n",
      "Sine: [ 0.84147098  0.90929743  0.14112001 -0.7568025  -0.95892427]\n"
     ]
    }
   ],
   "source": [
    "import numpy as np\n",
    "\n",
    "\n",
    "arr = np.array([1, 2, 3, 4, 5])\n",
    "\n",
    "\n",
    "arr_add = arr + 5        \n",
    "arr_mul = arr * 2        \n",
    "arr_square = arr ** 2    \n",
    "arr_sin = np.sin(arr)    \n",
    "\n",
    "print(\"Original:\", arr)\n",
    "print(\"Add 5:\", arr_add)\n",
    "print(\"Multiply by 2:\", arr_mul)\n",
    "print(\"Squared:\", arr_square)\n",
    "print(\"Sine:\", arr_sin)\n"
   ]
  },
  {
   "cell_type": "markdown",
   "id": "8a18d7ed",
   "metadata": {},
   "source": [
    "### Comparing Loop vs Vectorised equation. The above code block shows a vectorised equaton. Here we can simply use numpy operations to solve equations."
   ]
  },
  {
   "cell_type": "code",
   "execution_count": null,
   "id": "56cdc84d",
   "metadata": {},
   "outputs": [
    {
     "name": "stdout",
     "output_type": "stream",
     "text": [
      "[6, 7, 8, 9, 10]\n"
     ]
    }
   ],
   "source": [
    "arr2 = np.arange(1, 6)  \n",
    "res=[]\n",
    "for i in arr2:\n",
    "    i= i + 5  \n",
    "    res.append(i)  \n",
    "print(res)\n"
   ]
  },
  {
   "cell_type": "markdown",
   "id": "8225cf36",
   "metadata": {},
   "source": [
    "### Here we can see that we need to add a loop to do a basic addition function. "
   ]
  },
  {
   "cell_type": "markdown",
   "id": "4cc2f616",
   "metadata": {},
   "source": [
    "## Working with Pandas"
   ]
  },
  {
   "cell_type": "code",
   "execution_count": 9,
   "id": "c01e0a9b",
   "metadata": {},
   "outputs": [
    {
     "data": {
      "text/html": [
       "<div>\n",
       "<style scoped>\n",
       "    .dataframe tbody tr th:only-of-type {\n",
       "        vertical-align: middle;\n",
       "    }\n",
       "\n",
       "    .dataframe tbody tr th {\n",
       "        vertical-align: top;\n",
       "    }\n",
       "\n",
       "    .dataframe thead th {\n",
       "        text-align: right;\n",
       "    }\n",
       "</style>\n",
       "<table border=\"1\" class=\"dataframe\">\n",
       "  <thead>\n",
       "    <tr style=\"text-align: right;\">\n",
       "      <th></th>\n",
       "      <th>category</th>\n",
       "      <th>value</th>\n",
       "      <th>date</th>\n",
       "    </tr>\n",
       "  </thead>\n",
       "  <tbody>\n",
       "    <tr>\n",
       "      <th>0</th>\n",
       "      <td>A</td>\n",
       "      <td>10</td>\n",
       "      <td>2025-08-01</td>\n",
       "    </tr>\n",
       "    <tr>\n",
       "      <th>1</th>\n",
       "      <td>B</td>\n",
       "      <td>15</td>\n",
       "      <td>2025-08-02</td>\n",
       "    </tr>\n",
       "    <tr>\n",
       "      <th>2</th>\n",
       "      <td>A</td>\n",
       "      <td>12</td>\n",
       "      <td>2025-08-03</td>\n",
       "    </tr>\n",
       "    <tr>\n",
       "      <th>3</th>\n",
       "      <td>B</td>\n",
       "      <td>18</td>\n",
       "      <td>2025-08-04</td>\n",
       "    </tr>\n",
       "    <tr>\n",
       "      <th>4</th>\n",
       "      <td>C</td>\n",
       "      <td>25</td>\n",
       "      <td>2025-08-05</td>\n",
       "    </tr>\n",
       "  </tbody>\n",
       "</table>\n",
       "</div>"
      ],
      "text/plain": [
       "  category  value        date\n",
       "0        A     10  2025-08-01\n",
       "1        B     15  2025-08-02\n",
       "2        A     12  2025-08-03\n",
       "3        B     18  2025-08-04\n",
       "4        C     25  2025-08-05"
      ]
     },
     "execution_count": 9,
     "metadata": {},
     "output_type": "execute_result"
    }
   ],
   "source": [
    "import pandas as pd\n",
    "test_data= pd.read_csv('/Users/sparshpatel/bootcamp_sparsh_patel/homework/homework3/data/starter_data.csv')\n",
    "test_data.head()\n"
   ]
  },
  {
   "cell_type": "code",
   "execution_count": 10,
   "id": "5d10b481",
   "metadata": {},
   "outputs": [
    {
     "name": "stdout",
     "output_type": "stream",
     "text": [
      "<class 'pandas.core.frame.DataFrame'>\n",
      "RangeIndex: 10 entries, 0 to 9\n",
      "Data columns (total 3 columns):\n",
      " #   Column    Non-Null Count  Dtype \n",
      "---  ------    --------------  ----- \n",
      " 0   category  10 non-null     object\n",
      " 1   value     10 non-null     int64 \n",
      " 2   date      10 non-null     object\n",
      "dtypes: int64(1), object(2)\n",
      "memory usage: 368.0+ bytes\n"
     ]
    }
   ],
   "source": [
    "test_data.info()"
   ]
  },
  {
   "cell_type": "code",
   "execution_count": 24,
   "id": "e60c1c92",
   "metadata": {},
   "outputs": [
    {
     "name": "stdout",
     "output_type": "stream",
     "text": [
      "              value\n",
      "category           \n",
      "A         11.500000\n",
      "B         15.666667\n",
      "C         27.666667\n"
     ]
    },
    {
     "name": "stderr",
     "output_type": "stream",
     "text": [
      "/var/folders/qz/0dlc8y692_34_5qr067vqw540000gn/T/ipykernel_24910/1570970744.py:1: FutureWarning: The default value of numeric_only in DataFrameGroupBy.mean is deprecated. In a future version, numeric_only will default to False. Either specify numeric_only or select only columns which should be valid for the function.\n",
      "  grouped_data = test_data.groupby('category').mean()\n"
     ]
    }
   ],
   "source": [
    "grouped_data = test_data.groupby('category').mean()\n",
    "print(grouped_data)\n",
    "grouped_data.to_csv(\"grouped_data.csv\", index=True)"
   ]
  },
  {
   "cell_type": "code",
   "execution_count": 26,
   "id": "c53a0263",
   "metadata": {},
   "outputs": [
    {
     "data": {
      "text/plain": [
       "count    10.000000\n",
       "mean     17.600000\n",
       "std       7.381659\n",
       "min      10.000000\n",
       "25%      12.250000\n",
       "50%      14.500000\n",
       "75%      23.250000\n",
       "max      30.000000\n",
       "Name: value, dtype: float64"
      ]
     },
     "execution_count": 26,
     "metadata": {},
     "output_type": "execute_result"
    }
   ],
   "source": [
    "def get_summary_stats(df, column):\n",
    "    stats = df[column].describe()\n",
    "    return stats\n",
    "\n",
    "summary_stats = get_summary_stats(test_data, 'value')\n",
    "summary_stats"
   ]
  },
  {
   "cell_type": "code",
   "execution_count": 25,
   "id": "db8a1d0a",
   "metadata": {},
   "outputs": [
    {
     "data": {
      "image/png": "[encoded data removed]",
      "text/plain": [
       "<Figure size 1000x600 with 1 Axes>"
      ]
     },
     "metadata": {},
     "output_type": "display_data"
    }
   ],
   "source": [
    "import matplotlib.pyplot as plt\n",
    "plt.figure(figsize=(10, 6))\n",
    "plt.bar(grouped_data.index, grouped_data['value'])\n",
    "plt.xlabel('Category')\n",
    "plt.ylabel('Average Value')\n",
    "plt.title('Average Value by Category')\n",
    "plt.savefig(\"avg_val_category.jpg\", format=\"jpg\", dpi=300)\n",
    "plt.show()"
   ]
  },
  {
   "cell_type": "code",
   "execution_count": null,
   "id": "0723cb8c",
   "metadata": {},
   "outputs": [],
   "source": []
  }
 ],
 "metadata": {
  "kernelspec": {
   "display_name": "Python 3",
   "language": "python",
   "name": "python3"
  },
  "language_info": {
   "codemirror_mode": {
    "name": "ipython",
    "version": 3
   },
   "file_extension": ".py",
   "mimetype": "text/x-python",
   "name": "python",
   "nbconvert_exporter": "python",
   "pygments_lexer": "ipython3",
   "version": "3.10.2"
  }
 },
 "nbformat": 4,
 "nbformat_minor": 5
}
