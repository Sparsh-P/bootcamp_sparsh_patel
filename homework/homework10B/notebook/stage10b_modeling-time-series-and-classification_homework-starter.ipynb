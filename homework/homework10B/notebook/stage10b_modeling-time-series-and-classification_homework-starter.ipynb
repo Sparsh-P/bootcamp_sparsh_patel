{
 "cells": [
  {
   "cell_type": "markdown",
   "metadata": {},
   "source": [
    "# Stage 10b: Time Series & Classification\n",
    "Sparsh Patel 08/25/2025"
   ]
  },
  {
   "cell_type": "code",
   "execution_count": 2,
   "id": "3279254d",
   "metadata": {},
   "outputs": [],
   "source": [
    "\n",
    "import numpy as np, pandas as pd\n",
    "import matplotlib.pyplot as plt\n",
    "import seaborn as sns\n",
    "from sklearn.pipeline import Pipeline, make_pipeline\n",
    "from sklearn.preprocessing import StandardScaler\n",
    "from sklearn.linear_model import LinearRegression, LogisticRegression\n",
    "from sklearn.tree import DecisionTreeClassifier\n",
    "from sklearn.metrics import mean_absolute_error, mean_squared_error, classification_report, confusion_matrix\n",
    "from sklearn.model_selection import train_test_split, TimeSeriesSplit\n",
    "np.random.seed(7); sns.set(); plt.rcParams['figure.figsize']=(9,4)"
   ]
  },
  {
   "cell_type": "markdown",
   "id": "26ae5592",
   "metadata": {},
   "source": [
    "## Option A: Use Your Own Data \n",
    "We start by importing our data"
   ]
  },
  {
   "cell_type": "code",
   "execution_count": 3,
   "id": "38481779",
   "metadata": {},
   "outputs": [
    {
     "name": "stdout",
     "output_type": "stream",
     "text": [
      "/Users/sparshpatel/bootcamp_sparsh_patel/homework/homework10B\n"
     ]
    }
   ],
   "source": [
    "import os\n",
    "os.chdir('/Users/sparshpatel/bootcamp_sparsh_patel/homework/homework10B')\n",
    "print(os.getcwd())"
   ]
  },
  {
   "cell_type": "code",
   "execution_count": null,
   "id": "60eeebb6",
   "metadata": {},
   "outputs": [
    {
     "data": {
      "text/html": [
       "<div>\n",
       "<style scoped>\n",
       "    .dataframe tbody tr th:only-of-type {\n",
       "        vertical-align: middle;\n",
       "    }\n",
       "\n",
       "    .dataframe tbody tr th {\n",
       "        vertical-align: top;\n",
       "    }\n",
       "\n",
       "    .dataframe thead th {\n",
       "        text-align: right;\n",
       "    }\n",
       "</style>\n",
       "<table border=\"1\" class=\"dataframe\">\n",
       "  <thead>\n",
       "    <tr style=\"text-align: right;\">\n",
       "      <th></th>\n",
       "      <th>price</th>\n",
       "      <th>ret</th>\n",
       "      <th>log_ret</th>\n",
       "    </tr>\n",
       "    <tr>\n",
       "      <th>Date</th>\n",
       "      <th></th>\n",
       "      <th></th>\n",
       "      <th></th>\n",
       "    </tr>\n",
       "  </thead>\n",
       "  <tbody>\n",
       "    <tr>\n",
       "      <th>2021-01-01</th>\n",
       "      <td>101.735412</td>\n",
       "      <td>0.000000</td>\n",
       "      <td>0.000000</td>\n",
       "    </tr>\n",
       "    <tr>\n",
       "      <th>2021-01-04</th>\n",
       "      <td>101.292875</td>\n",
       "      <td>-0.004350</td>\n",
       "      <td>-0.004359</td>\n",
       "    </tr>\n",
       "    <tr>\n",
       "      <th>2021-01-05</th>\n",
       "      <td>101.356527</td>\n",
       "      <td>0.000628</td>\n",
       "      <td>0.000628</td>\n",
       "    </tr>\n",
       "    <tr>\n",
       "      <th>2021-01-06</th>\n",
       "      <td>101.800950</td>\n",
       "      <td>0.004385</td>\n",
       "      <td>0.004375</td>\n",
       "    </tr>\n",
       "    <tr>\n",
       "      <th>2021-01-07</th>\n",
       "      <td>101.031283</td>\n",
       "      <td>-0.007561</td>\n",
       "      <td>-0.007589</td>\n",
       "    </tr>\n",
       "    <tr>\n",
       "      <th>...</th>\n",
       "      <td>...</td>\n",
       "      <td>...</td>\n",
       "      <td>...</td>\n",
       "    </tr>\n",
       "    <tr>\n",
       "      <th>2022-11-25</th>\n",
       "      <td>54.778078</td>\n",
       "      <td>0.010816</td>\n",
       "      <td>0.010758</td>\n",
       "    </tr>\n",
       "    <tr>\n",
       "      <th>2022-11-28</th>\n",
       "      <td>55.716059</td>\n",
       "      <td>0.017123</td>\n",
       "      <td>0.016978</td>\n",
       "    </tr>\n",
       "    <tr>\n",
       "      <th>2022-11-29</th>\n",
       "      <td>55.574235</td>\n",
       "      <td>-0.002545</td>\n",
       "      <td>-0.002549</td>\n",
       "    </tr>\n",
       "    <tr>\n",
       "      <th>2022-11-30</th>\n",
       "      <td>54.506608</td>\n",
       "      <td>-0.019211</td>\n",
       "      <td>-0.019398</td>\n",
       "    </tr>\n",
       "    <tr>\n",
       "      <th>2022-12-01</th>\n",
       "      <td>54.719676</td>\n",
       "      <td>0.003909</td>\n",
       "      <td>0.003901</td>\n",
       "    </tr>\n",
       "  </tbody>\n",
       "</table>\n",
       "<p>500 rows × 3 columns</p>\n",
       "</div>"
      ],
      "text/plain": [
       "                 price       ret   log_ret\n",
       "Date                                      \n",
       "2021-01-01  101.735412  0.000000  0.000000\n",
       "2021-01-04  101.292875 -0.004350 -0.004359\n",
       "2021-01-05  101.356527  0.000628  0.000628\n",
       "2021-01-06  101.800950  0.004385  0.004375\n",
       "2021-01-07  101.031283 -0.007561 -0.007589\n",
       "...                ...       ...       ...\n",
       "2022-11-25   54.778078  0.010816  0.010758\n",
       "2022-11-28   55.716059  0.017123  0.016978\n",
       "2022-11-29   55.574235 -0.002545 -0.002549\n",
       "2022-11-30   54.506608 -0.019211 -0.019398\n",
       "2022-12-01   54.719676  0.003909  0.003901\n",
       "\n",
       "[500 rows x 3 columns]"
      ]
     },
     "execution_count": 26,
     "metadata": {},
     "output_type": "execute_result"
    }
   ],
   "source": [
    "\n",
    "df = pd.read_csv('/Users/sparshpatel/bootcamp_sparsh_patel/homework/homework10B/data/project10_timeseries.csv', parse_dates=['Date'], index_col='Date')\n",
    "df"
   ]
  },
  {
   "cell_type": "markdown",
   "id": "9c9112bc",
   "metadata": {},
   "source": [
    "## Option B: Synthetic Generator (Use if you don't have data ready)"
   ]
  },
  {
   "cell_type": "code",
   "execution_count": 9,
   "id": "f4d72f5b",
   "metadata": {},
   "outputs": [],
   "source": [
    "# # Synthetic series with regimes & jumps\n",
    "# n=500\n",
    "# dates=pd.bdate_range('2021-01-01', periods=n)\n",
    "# mu = np.where(np.arange(n)<n//2, 0.0003, -0.0001)\n",
    "# sigma = np.where(np.arange(n)<n//2, 0.01, 0.015)\n",
    "# eps = np.random.normal(mu, sigma)\n",
    "# jumps = np.zeros(n); jump_days = np.random.choice(np.arange(20,n-20), size=5, replace=False)\n",
    "# jumps[jump_days] = np.random.normal(0,0.05,size=len(jump_days))\n",
    "# rets = eps + jumps\n",
    "# price = 100*np.exp(np.cumsum(rets))\n",
    "# df = pd.DataFrame({'price':price}, index=dates)\n",
    "# df['ret'] = df['price'].pct_change().fillna(0.0)\n",
    "# df['log_ret'] = np.log1p(df['ret'])\n",
    "# df.head()\n",
    "\n"
   ]
  },
  {
   "cell_type": "markdown",
   "metadata": {},
   "source": [
    "## Feature Engineering"
   ]
  },
  {
   "cell_type": "code",
   "execution_count": null,
   "metadata": {},
   "outputs": [
    {
     "data": {
      "text/html": [
       "<div>\n",
       "<style scoped>\n",
       "    .dataframe tbody tr th:only-of-type {\n",
       "        vertical-align: middle;\n",
       "    }\n",
       "\n",
       "    .dataframe tbody tr th {\n",
       "        vertical-align: top;\n",
       "    }\n",
       "\n",
       "    .dataframe thead th {\n",
       "        text-align: right;\n",
       "    }\n",
       "</style>\n",
       "<table border=\"1\" class=\"dataframe\">\n",
       "  <thead>\n",
       "    <tr style=\"text-align: right;\">\n",
       "      <th></th>\n",
       "      <th>price</th>\n",
       "      <th>ret</th>\n",
       "      <th>log_ret</th>\n",
       "      <th>lag_1</th>\n",
       "      <th>roll_mean_10</th>\n",
       "      <th>roll_vol_15</th>\n",
       "      <th>y_next_ret</th>\n",
       "      <th>y_up</th>\n",
       "    </tr>\n",
       "    <tr>\n",
       "      <th>Date</th>\n",
       "      <th></th>\n",
       "      <th></th>\n",
       "      <th></th>\n",
       "      <th></th>\n",
       "      <th></th>\n",
       "      <th></th>\n",
       "      <th></th>\n",
       "      <th></th>\n",
       "    </tr>\n",
       "  </thead>\n",
       "  <tbody>\n",
       "    <tr>\n",
       "      <th>2021-01-22</th>\n",
       "      <td>98.976854</td>\n",
       "      <td>-0.014132</td>\n",
       "      <td>-0.014232</td>\n",
       "      <td>-0.002125</td>\n",
       "      <td>-0.000605</td>\n",
       "      <td>0.006568</td>\n",
       "      <td>0.005863</td>\n",
       "      <td>1</td>\n",
       "    </tr>\n",
       "    <tr>\n",
       "      <th>2021-01-25</th>\n",
       "      <td>99.557148</td>\n",
       "      <td>0.005863</td>\n",
       "      <td>0.005846</td>\n",
       "      <td>-0.014132</td>\n",
       "      <td>-0.002050</td>\n",
       "      <td>0.007397</td>\n",
       "      <td>0.001540</td>\n",
       "      <td>1</td>\n",
       "    </tr>\n",
       "    <tr>\n",
       "      <th>2021-01-26</th>\n",
       "      <td>99.710466</td>\n",
       "      <td>0.001540</td>\n",
       "      <td>0.001539</td>\n",
       "      <td>0.005863</td>\n",
       "      <td>-0.001493</td>\n",
       "      <td>0.007612</td>\n",
       "      <td>0.003049</td>\n",
       "      <td>1</td>\n",
       "    </tr>\n",
       "    <tr>\n",
       "      <th>2021-01-27</th>\n",
       "      <td>100.014507</td>\n",
       "      <td>0.003049</td>\n",
       "      <td>0.003045</td>\n",
       "      <td>0.001540</td>\n",
       "      <td>0.000371</td>\n",
       "      <td>0.007631</td>\n",
       "      <td>-0.014854</td>\n",
       "      <td>0</td>\n",
       "    </tr>\n",
       "    <tr>\n",
       "      <th>2021-01-28</th>\n",
       "      <td>98.528909</td>\n",
       "      <td>-0.014854</td>\n",
       "      <td>-0.014965</td>\n",
       "      <td>0.003049</td>\n",
       "      <td>-0.000377</td>\n",
       "      <td>0.007571</td>\n",
       "      <td>0.016949</td>\n",
       "      <td>1</td>\n",
       "    </tr>\n",
       "  </tbody>\n",
       "</table>\n",
       "</div>"
      ],
      "text/plain": [
       "                 price       ret   log_ret     lag_1  roll_mean_10  \\\n",
       "Date                                                                 \n",
       "2021-01-22   98.976854 -0.014132 -0.014232 -0.002125     -0.000605   \n",
       "2021-01-25   99.557148  0.005863  0.005846 -0.014132     -0.002050   \n",
       "2021-01-26   99.710466  0.001540  0.001539  0.005863     -0.001493   \n",
       "2021-01-27  100.014507  0.003049  0.003045  0.001540      0.000371   \n",
       "2021-01-28   98.528909 -0.014854 -0.014965  0.003049     -0.000377   \n",
       "\n",
       "            roll_vol_15  y_next_ret  y_up  \n",
       "Date                                       \n",
       "2021-01-22     0.006568    0.005863     1  \n",
       "2021-01-25     0.007397    0.001540     1  \n",
       "2021-01-26     0.007612    0.003049     1  \n",
       "2021-01-27     0.007631   -0.014854     0  \n",
       "2021-01-28     0.007571    0.016949     1  "
      ]
     },
     "execution_count": 27,
     "metadata": {},
     "output_type": "execute_result"
    }
   ],
   "source": [
    "\n",
    "df['lag_1'] = df['ret'].shift(1)\n",
    "df['roll_mean_10'] = df['ret'].rolling(10).mean().shift(1)\n",
    "\n",
    "df['roll_vol_15'] = df['ret'].rolling(15).std().shift(1)\n",
    "df['y_next_ret'] = df['ret'].shift(-1)\n",
    "df['y_up'] = (df['y_next_ret']>0).astype(int)\n",
    "df_feat = df.dropna().copy()\n",
    "df_feat.head()"
   ]
  },
  {
   "cell_type": "markdown",
   "id": "1b92b777",
   "metadata": {},
   "source": [
    "### We created 5 features of our own i.e lag_1, roll_mean_10, roll_vol_15, y_next_ret, y_up"
   ]
  },
  {
   "cell_type": "markdown",
   "metadata": {},
   "source": [
    "## Split"
   ]
  },
  {
   "cell_type": "code",
   "execution_count": 31,
   "metadata": {},
   "outputs": [],
   "source": [
    "cut=int(len(df_feat)*0.8)\n",
    "train, test = df_feat.iloc[:cut], df_feat.iloc[cut:]\n",
    "features=['lag_1','roll_mean_10']  \n",
    "X_tr, X_te = train[features], test[features]\n",
    "y_tr_reg, y_te_reg = train['y_next_ret'], test['y_next_ret']\n",
    "y_tr_clf, y_te_clf = train['y_up'], test['y_up']"
   ]
  },
  {
   "cell_type": "markdown",
   "metadata": {},
   "source": [
    "## Pipeline + Model "
   ]
  },
  {
   "cell_type": "markdown",
   "id": "69a6a9e8",
   "metadata": {},
   "source": [
    "### 1) Forecasting results"
   ]
  },
  {
   "cell_type": "code",
   "execution_count": 32,
   "metadata": {},
   "outputs": [
    {
     "name": "stdout",
     "output_type": "stream",
     "text": [
      "RMSE: 0.01446532881311975\n"
     ]
    }
   ],
   "source": [
    "reg = Pipeline([('scaler', StandardScaler()), ('linreg', LinearRegression())])\n",
    "reg.fit(X_tr, y_tr_reg)\n",
    "pred = reg.predict(X_te)\n",
    "rmse = np.sqrt(mean_squared_error(y_te_reg, pred))\n",
    "print('RMSE:', rmse)"
   ]
  },
  {
   "cell_type": "markdown",
   "id": "c8f5e81d",
   "metadata": {},
   "source": [
    "### 2) Classification"
   ]
  },
  {
   "cell_type": "code",
   "execution_count": 36,
   "metadata": {},
   "outputs": [
    {
     "name": "stdout",
     "output_type": "stream",
     "text": [
      "              precision    recall  f1-score   support\n",
      "\n",
      "           0       0.57      0.74      0.64        53\n",
      "           1       0.50      0.32      0.39        44\n",
      "\n",
      "    accuracy                           0.55        97\n",
      "   macro avg       0.53      0.53      0.51        97\n",
      "weighted avg       0.54      0.55      0.53        97\n",
      "\n"
     ]
    },
    {
     "data": {
      "image/png": "[encoded data removed]",
      "text/plain": [
       "<Figure size 900x400 with 2 Axes>"
      ]
     },
     "metadata": {},
     "output_type": "display_data"
    }
   ],
   "source": [
    "clf = Pipeline([('scaler', StandardScaler()), ('logit', LogisticRegression(max_iter=1000))])\n",
    "clf.fit(X_tr, y_tr_clf)\n",
    "predc = clf.predict(X_te)\n",
    "print(classification_report(y_te_clf, predc))\n",
    "cm = confusion_matrix(y_te_clf, predc)\n",
    "sns.heatmap(cm, annot=True, fmt='d', cmap='Greens'); plt.title('Confusion Matrix'); plt.show()"
   ]
  },
  {
   "cell_type": "markdown",
   "metadata": {},
   "source": [
    "\n",
    "## Interpretation\n",
    "\n",
    "- **What worked?**  \n",
    "  - The model was able to identify class `0` reasonably well, with higher precision (0.57) and recall (0.74).  \n",
    "  - The overall weighted accuracy is ~55%, which is slightly above random guessing for a binary problem.  \n",
    "  - RMSE is very low (0.014), indicating that the model’s probability predictions are close to the observed labels in terms of squared error.\n",
    "\n",
    "- **Where might assumptions fail?**  \n",
    "  - The model struggles with class `1`, where recall drops to 0.32 and precision to 0.50, showing imbalance in performance.  \n",
    "  - This suggests possible **class imbalance** or insufficient features to separate the two classes.  \n",
    "  - Assumptions of equal class distribution and linear separability may not hold here.  \n",
    "  - Accuracy is not a reliable measure in this case, since one class is clearly favored over the other.\n",
    "\n",
    "- **Suggestion for extension of features or model**  \n",
    "  - Engineer additional features (interactions, transformations, or domain-driven features such as ratios or logs).  \n",
    "  - Try more flexible models (Random Forest, Gradient Boosting, or Logistic Regression with regularization).  \n",
    "  - Use cross-validation to check stability across folds.  \n",
    "  - Explore threshold tuning to balance precision and recall for class `1`.\n"
   ]
  }
 ],
 "metadata": {
  "kernelspec": {
   "display_name": "Python 3",
   "language": "python",
   "name": "python3"
  },
  "language_info": {
   "codemirror_mode": {
    "name": "ipython",
    "version": 3
   },
   "file_extension": ".py",
   "mimetype": "text/x-python",
   "name": "python",
   "nbconvert_exporter": "python",
   "pygments_lexer": "ipython3",
   "version": "3.10.2"
  }
 },
 "nbformat": 4,
 "nbformat_minor": 5
}
