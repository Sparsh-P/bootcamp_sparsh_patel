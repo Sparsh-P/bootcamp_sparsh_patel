{
 "cells": [
  {
   "cell_type": "markdown",
   "metadata": {},
   "source": [
    "# Homework Starter — Stage 04: Data Acquisition and Ingestion\n",
    "Name: Sparsh Patel\n",
    "Date: 08/16/2025\n",
    "\n",
    "## Objectives\n",
    "- API ingestion with secrets in `.env`\n",
    "- Scrape a permitted public table\n",
    "- Validate and save raw data to `data/raw/`"
   ]
  },
  {
   "cell_type": "code",
   "execution_count": 17,
   "metadata": {},
   "outputs": [
    {
     "name": "stdout",
     "output_type": "stream",
     "text": [
      "ALPHAVANTAGE_API_KEY loaded? True\n"
     ]
    }
   ],
   "source": [
    "import os, pathlib, datetime as dt\n",
    "import requests\n",
    "import pandas as pd\n",
    "from bs4 import BeautifulSoup\n",
    "from dotenv import load_dotenv\n",
    "os.chdir(\"/Users/sparshpatel/bootcamp_sparsh_patel/homework/homework4/\")\n",
    "\n",
    "RAW = pathlib.Path('data/raw'); RAW.mkdir(parents=True, exist_ok=True)\n",
    "load_dotenv(); print('ALPHAVANTAGE_API_KEY loaded?', bool(os.getenv('ALPHAVANTAGE_API_KEY')))"
   ]
  },
  {
   "cell_type": "code",
   "execution_count": null,
   "id": "fe7b7bcc",
   "metadata": {},
   "outputs": [
    {
     "name": "stdout",
     "output_type": "stream",
     "text": [
      "ALPHAVANTAGE_API_KEY loaded? True\n"
     ]
    }
   ],
   "source": [
    "env_path = pathlib.Path('/Users/sparshpatel/bootcamp_sparsh_patel/homework') / '.env'\n",
    "load_dotenv(dotenv_path=env_path)\n",
    "load_dotenv(); print('ALPHAVANTAGE_API_KEY loaded?', bool(os.getenv('ALPHAVANTAGE_API_KEY')))"
   ]
  },
  {
   "cell_type": "markdown",
   "id": "fd9032a5",
   "metadata": {},
   "source": [
    "Here I changed the environment path to get to the correct location so that the .env file can be accessed."
   ]
  },
  {
   "cell_type": "code",
   "execution_count": 4,
   "id": "3c7bf0a7",
   "metadata": {},
   "outputs": [
    {
     "name": "stdout",
     "output_type": "stream",
     "text": [
      "/Users/sparshpatel/bootcamp_sparsh_patel/homework/homework4\n"
     ]
    }
   ],
   "source": [
    "print(os.getcwd())"
   ]
  },
  {
   "cell_type": "markdown",
   "id": "65d86eea",
   "metadata": {},
   "source": [
    "Making sure that I am in the correct directory."
   ]
  },
  {
   "cell_type": "markdown",
   "metadata": {},
   "source": [
    "## Helpers "
   ]
  },
  {
   "cell_type": "code",
   "execution_count": 39,
   "metadata": {},
   "outputs": [],
   "source": [
    "def ts():\n",
    "    return dt.datetime.now().strftime('%Y%m%d-%H%M%S')\n",
    "\n",
    "def save_csv(df: pd.DataFrame, prefix: str, **meta):\n",
    "    mid = '_'.join([f\"{k}-{v}\" for k,v in meta.items()])\n",
    "    path = RAW / f\"{prefix}_{mid}_{ts()}.csv\"\n",
    "    df.to_csv(path, index=False)\n",
    "    print('Saved', path)\n",
    "    return path\n",
    "\n",
    "def validate(df: pd.DataFrame, required):\n",
    "    missing = [c for c in required if c not in df.columns]\n",
    "    return {'missing': missing, 'shape': df.shape, 'na_total': int(df.isna().sum().sum())}"
   ]
  },
  {
   "cell_type": "markdown",
   "metadata": {},
   "source": [
    "## Part 1 — API Pull \n",
    "Choose an endpoint (e.g., Alpha Vantage or use `yfinance` fallback)."
   ]
  },
  {
   "cell_type": "code",
   "execution_count": 30,
   "metadata": {},
   "outputs": [
    {
     "ename": "KeyError",
     "evalue": "\"['adj_close'] not in index\"",
     "output_type": "error",
     "traceback": [
      "\u001b[0;31m---------------------------------------------------------------------------\u001b[0m",
      "\u001b[0;31mKeyError\u001b[0m                                  Traceback (most recent call last)",
      "Input \u001b[0;32mIn [30]\u001b[0m, in \u001b[0;36m<cell line: 3>\u001b[0;34m()\u001b[0m\n\u001b[1;32m      8\u001b[0m     js \u001b[38;5;241m=\u001b[39m r\u001b[38;5;241m.\u001b[39mjson()\n\u001b[1;32m      9\u001b[0m     key \u001b[38;5;241m=\u001b[39m [k \u001b[38;5;28;01mfor\u001b[39;00m k \u001b[38;5;129;01min\u001b[39;00m js \u001b[38;5;28;01mif\u001b[39;00m \u001b[38;5;124m'\u001b[39m\u001b[38;5;124mTime Series\u001b[39m\u001b[38;5;124m'\u001b[39m \u001b[38;5;129;01min\u001b[39;00m k][\u001b[38;5;241m0\u001b[39m]\n\u001b[0;32m---> 10\u001b[0m     df_api \u001b[38;5;241m=\u001b[39m \u001b[43mpd\u001b[49m\u001b[38;5;241;43m.\u001b[39;49m\u001b[43mDataFrame\u001b[49m\u001b[43m(\u001b[49m\u001b[43mjs\u001b[49m\u001b[43m[\u001b[49m\u001b[43mkey\u001b[49m\u001b[43m]\u001b[49m\u001b[43m)\u001b[49m\u001b[38;5;241;43m.\u001b[39;49m\u001b[43mT\u001b[49m\u001b[38;5;241;43m.\u001b[39;49m\u001b[43mreset_index\u001b[49m\u001b[43m(\u001b[49m\u001b[43m)\u001b[49m\u001b[38;5;241;43m.\u001b[39;49m\u001b[43mrename\u001b[49m\u001b[43m(\u001b[49m\u001b[43mcolumns\u001b[49m\u001b[38;5;241;43m=\u001b[39;49m\u001b[43m{\u001b[49m\u001b[38;5;124;43m'\u001b[39;49m\u001b[38;5;124;43mindex\u001b[39;49m\u001b[38;5;124;43m'\u001b[39;49m\u001b[43m:\u001b[49m\u001b[38;5;124;43m'\u001b[39;49m\u001b[38;5;124;43mdate\u001b[39;49m\u001b[38;5;124;43m'\u001b[39;49m\u001b[43m,\u001b[49m\u001b[38;5;124;43m'\u001b[39;49m\u001b[38;5;124;43m5. adjusted close\u001b[39;49m\u001b[38;5;124;43m'\u001b[39;49m\u001b[43m:\u001b[49m\u001b[38;5;124;43m'\u001b[39;49m\u001b[38;5;124;43madj_close\u001b[39;49m\u001b[38;5;124;43m'\u001b[39;49m\u001b[43m}\u001b[49m\u001b[43m)\u001b[49m\u001b[43m[\u001b[49m\u001b[43m[\u001b[49m\u001b[38;5;124;43m'\u001b[39;49m\u001b[38;5;124;43mdate\u001b[39;49m\u001b[38;5;124;43m'\u001b[39;49m\u001b[43m,\u001b[49m\u001b[38;5;124;43m'\u001b[39;49m\u001b[38;5;124;43madj_close\u001b[39;49m\u001b[38;5;124;43m'\u001b[39;49m\u001b[43m]\u001b[49m\u001b[43m]\u001b[49m\n\u001b[1;32m     11\u001b[0m     df_api[\u001b[38;5;124m'\u001b[39m\u001b[38;5;124mdate\u001b[39m\u001b[38;5;124m'\u001b[39m] \u001b[38;5;241m=\u001b[39m pd\u001b[38;5;241m.\u001b[39mto_datetime(df_api[\u001b[38;5;124m'\u001b[39m\u001b[38;5;124mdate\u001b[39m\u001b[38;5;124m'\u001b[39m]); df_api[\u001b[38;5;124m'\u001b[39m\u001b[38;5;124madj_close\u001b[39m\u001b[38;5;124m'\u001b[39m] \u001b[38;5;241m=\u001b[39m pd\u001b[38;5;241m.\u001b[39mto_numeric(df_api[\u001b[38;5;124m'\u001b[39m\u001b[38;5;124madj_close\u001b[39m\u001b[38;5;124m'\u001b[39m])\n\u001b[1;32m     12\u001b[0m \u001b[38;5;28;01melse\u001b[39;00m:\n",
      "File \u001b[0;32m~/opt/anaconda3/lib/python3.9/site-packages/pandas/core/frame.py:4113\u001b[0m, in \u001b[0;36mDataFrame.__getitem__\u001b[0;34m(self, key)\u001b[0m\n\u001b[1;32m   4111\u001b[0m     \u001b[38;5;28;01mif\u001b[39;00m is_iterator(key):\n\u001b[1;32m   4112\u001b[0m         key \u001b[38;5;241m=\u001b[39m \u001b[38;5;28mlist\u001b[39m(key)\n\u001b[0;32m-> 4113\u001b[0m     indexer \u001b[38;5;241m=\u001b[39m \u001b[38;5;28;43mself\u001b[39;49m\u001b[38;5;241;43m.\u001b[39;49m\u001b[43mcolumns\u001b[49m\u001b[38;5;241;43m.\u001b[39;49m\u001b[43m_get_indexer_strict\u001b[49m\u001b[43m(\u001b[49m\u001b[43mkey\u001b[49m\u001b[43m,\u001b[49m\u001b[43m \u001b[49m\u001b[38;5;124;43m\"\u001b[39;49m\u001b[38;5;124;43mcolumns\u001b[39;49m\u001b[38;5;124;43m\"\u001b[39;49m\u001b[43m)\u001b[49m[\u001b[38;5;241m1\u001b[39m]\n\u001b[1;32m   4115\u001b[0m \u001b[38;5;66;03m# take() does not accept boolean indexers\u001b[39;00m\n\u001b[1;32m   4116\u001b[0m \u001b[38;5;28;01mif\u001b[39;00m \u001b[38;5;28mgetattr\u001b[39m(indexer, \u001b[38;5;124m\"\u001b[39m\u001b[38;5;124mdtype\u001b[39m\u001b[38;5;124m\"\u001b[39m, \u001b[38;5;28;01mNone\u001b[39;00m) \u001b[38;5;241m==\u001b[39m \u001b[38;5;28mbool\u001b[39m:\n",
      "File \u001b[0;32m~/opt/anaconda3/lib/python3.9/site-packages/pandas/core/indexes/base.py:6212\u001b[0m, in \u001b[0;36mIndex._get_indexer_strict\u001b[0;34m(self, key, axis_name)\u001b[0m\n\u001b[1;32m   6209\u001b[0m \u001b[38;5;28;01melse\u001b[39;00m:\n\u001b[1;32m   6210\u001b[0m     keyarr, indexer, new_indexer \u001b[38;5;241m=\u001b[39m \u001b[38;5;28mself\u001b[39m\u001b[38;5;241m.\u001b[39m_reindex_non_unique(keyarr)\n\u001b[0;32m-> 6212\u001b[0m \u001b[38;5;28;43mself\u001b[39;49m\u001b[38;5;241;43m.\u001b[39;49m\u001b[43m_raise_if_missing\u001b[49m\u001b[43m(\u001b[49m\u001b[43mkeyarr\u001b[49m\u001b[43m,\u001b[49m\u001b[43m \u001b[49m\u001b[43mindexer\u001b[49m\u001b[43m,\u001b[49m\u001b[43m \u001b[49m\u001b[43maxis_name\u001b[49m\u001b[43m)\u001b[49m\n\u001b[1;32m   6214\u001b[0m keyarr \u001b[38;5;241m=\u001b[39m \u001b[38;5;28mself\u001b[39m\u001b[38;5;241m.\u001b[39mtake(indexer)\n\u001b[1;32m   6215\u001b[0m \u001b[38;5;28;01mif\u001b[39;00m \u001b[38;5;28misinstance\u001b[39m(key, Index):\n\u001b[1;32m   6216\u001b[0m     \u001b[38;5;66;03m# GH 42790 - Preserve name from an Index\u001b[39;00m\n",
      "File \u001b[0;32m~/opt/anaconda3/lib/python3.9/site-packages/pandas/core/indexes/base.py:6264\u001b[0m, in \u001b[0;36mIndex._raise_if_missing\u001b[0;34m(self, key, indexer, axis_name)\u001b[0m\n\u001b[1;32m   6261\u001b[0m     \u001b[38;5;28;01mraise\u001b[39;00m \u001b[38;5;167;01mKeyError\u001b[39;00m(\u001b[38;5;124mf\u001b[39m\u001b[38;5;124m\"\u001b[39m\u001b[38;5;124mNone of [\u001b[39m\u001b[38;5;132;01m{\u001b[39;00mkey\u001b[38;5;132;01m}\u001b[39;00m\u001b[38;5;124m] are in the [\u001b[39m\u001b[38;5;132;01m{\u001b[39;00maxis_name\u001b[38;5;132;01m}\u001b[39;00m\u001b[38;5;124m]\u001b[39m\u001b[38;5;124m\"\u001b[39m)\n\u001b[1;32m   6263\u001b[0m not_found \u001b[38;5;241m=\u001b[39m \u001b[38;5;28mlist\u001b[39m(ensure_index(key)[missing_mask\u001b[38;5;241m.\u001b[39mnonzero()[\u001b[38;5;241m0\u001b[39m]]\u001b[38;5;241m.\u001b[39munique())\n\u001b[0;32m-> 6264\u001b[0m \u001b[38;5;28;01mraise\u001b[39;00m \u001b[38;5;167;01mKeyError\u001b[39;00m(\u001b[38;5;124mf\u001b[39m\u001b[38;5;124m\"\u001b[39m\u001b[38;5;132;01m{\u001b[39;00mnot_found\u001b[38;5;132;01m}\u001b[39;00m\u001b[38;5;124m not in index\u001b[39m\u001b[38;5;124m\"\u001b[39m)\n",
      "\u001b[0;31mKeyError\u001b[0m: \"['adj_close'] not in index\""
     ]
    }
   ],
   "source": [
    "SYMBOL = 'BRK-B'\n",
    "USE_ALPHA = bool(os.getenv('ALPHAVANTAGE_API_KEY'))\n",
    "if USE_ALPHA:\n",
    "    url = 'https://www.alphavantage.co/query'\n",
    "    params = {'function':'TIME_SERIES_DAILY','symbol':SYMBOL,'outputsize':'compact','apikey':os.getenv('ALPHAVANTAGE_API_KEY')}\n",
    "    r = requests.get(url, params=params, timeout=30)\n",
    "    r.raise_for_status()\n",
    "    js = r.json()\n",
    "    key = [k for k in js if 'Time Series' in k][0]\n",
    "    df_api = pd.DataFrame(js[key]).T.reset_index().rename(columns={'index':'date','5. adjusted close':'adj_close'})[['date','adj_close']]\n",
    "    df_api['date'] = pd.to_datetime(df_api['date']); df_api['adj_close'] = pd.to_numeric(df_api['adj_close'])\n",
    "else:\n",
    "    import yfinance as yf\n",
    "    df_api = yf.download(SYMBOL, period='3mo', interval='1d').reset_index()[['Date','Adj Close']]\n",
    "    df_api.columns = ['date','adj_close']\n",
    "\n",
    "v_api = validate(df_api, ['date','adj_close']); v_api"
   ]
  },
  {
   "cell_type": "code",
   "execution_count": 25,
   "id": "e1a586cd",
   "metadata": {},
   "outputs": [
    {
     "name": "stdout",
     "output_type": "stream",
     "text": [
      "{'Information': 'Thank you for using Alpha Vantage! This is a premium endpoint. You may subscribe to any of the premium plans at https://www.alphavantage.co/premium/ to instantly unlock all premium endpoints'}\n"
     ]
    }
   ],
   "source": [
    "print(js)\n"
   ]
  },
  {
   "cell_type": "markdown",
   "id": "7cfd925f",
   "metadata": {},
   "source": [
    "### Here you can see that the adjusted close function has been shifted to the premium version of the alphavantage api, so we were not able to access that."
   ]
  },
  {
   "cell_type": "code",
   "execution_count": 42,
   "id": "78b99e97",
   "metadata": {},
   "outputs": [
    {
     "data": {
      "text/plain": [
       "{'missing': [], 'shape': (100, 2), 'na_total': 0}"
      ]
     },
     "execution_count": 42,
     "metadata": {},
     "output_type": "execute_result"
    }
   ],
   "source": [
    "SYMBOL = 'BRK-A'\n",
    "USE_ALPHA = bool(os.getenv('ALPHAVANTAGE_API_KEY'))\n",
    "\n",
    "if USE_ALPHA:\n",
    "    url = 'https://www.alphavantage.co/query'\n",
    "    params = {\n",
    "        'function':'TIME_SERIES_DAILY',\n",
    "        'symbol':SYMBOL,\n",
    "        'outputsize':'compact',\n",
    "        'apikey': os.getenv('ALPHAVANTAGE_API_KEY')\n",
    "    }\n",
    "    r = requests.get(url, params=params, timeout=30)\n",
    "    r.raise_for_status()\n",
    "    js = r.json()\n",
    "    key = [k for k in js if 'Time Series' in k][0]\n",
    "    \n",
    "    # Use '4. close' instead of adjusted close\n",
    "    df_api = pd.DataFrame(js[key]).T.reset_index().rename(\n",
    "        columns={'index':'date','4. close':'close'}\n",
    "    )[['date','close']]\n",
    "    df_api['date'] = pd.to_datetime(df_api['date'])\n",
    "    df_api['close'] = pd.to_numeric(df_api['close'])\n",
    "\n",
    "else:\n",
    "    import yfinance as yf\n",
    "    df_api = yf.download(SYMBOL, period='3mo', interval='1d').reset_index()[['Date','Close']]\n",
    "    df_api.columns = ['date','close']\n",
    "\n",
    "# Validate\n",
    "v_api = validate(df_api, ['date','close'])\n",
    "v_api\n"
   ]
  },
  {
   "cell_type": "markdown",
   "id": "6a0c6d16",
   "metadata": {},
   "source": [
    "#### Successfully retrieved the ticker data."
   ]
  },
  {
   "cell_type": "code",
   "execution_count": 43,
   "id": "d9babb1c",
   "metadata": {},
   "outputs": [
    {
     "name": "stdout",
     "output_type": "stream",
     "text": [
      "{'Meta Data': {'1. Information': 'Daily Prices (open, high, low, close) and Volumes', '2. Symbol': 'BRK-A', '3. Last Refreshed': '2025-08-15', '4. Output Size': 'Compact', '5. Time Zone': 'US/Eastern'}, 'Time Series (Daily)': {'2025-08-15': {'1. open': '723080.0012', '2. high': '724040.0000', '3. low': '714246.3812', '4. close': '717250.0000', '5. volume': '310'}, '2025-08-14': {'1. open': '718026.4200', '2. high': '718680.0000', '3. low': '712114.8300', '4. close': '718680.0000', '5. volume': '269'}, '2025-08-13': {'1. open': '707525.8650', '2. high': '719339.4300', '3. low': '706702.9112', '4. close': '715490.4100', '5. volume': '443'}, '2025-08-12': {'1. open': '697051.1212', '2. high': '708299.9900', '3. low': '697051.1212', '4. close': '704700.1000', '5. volume': '338'}, '2025-08-11': {'1. open': '699742.1050', '2. high': '702189.6200', '3. low': '695680.0000', '4. close': '698440.0000', '5. volume': '478'}, '2025-08-08': {'1. open': '695837.4400', '2. high': '699940.9900', '3. low': '693021.0212', '4. close': '698040.1000', '5. volume': '325'}, '2025-08-07': {'1. open': '703475.8712', '2. high': '708739.0000', '3. low': '693057.0700', '4. close': '699999.9000', '5. volume': '473'}, '2025-08-06': {'1. open': '696051.0112', '2. high': '704259.9900', '3. low': '695129.0612', '4. close': '703115.0000', '5. volume': '290'}, '2025-08-05': {'1. open': '693257.2700', '2. high': '702375.0000', '3. low': '691120.2700', '4. close': '694750.0000', '5. volume': '577'}, '2025-08-04': {'1. open': '702758.3700', '2. high': '703419.2950', '3. low': '685150.0012', '4. close': '692600.0000', '5. volume': '882'}, '2025-08-01': {'1. open': '712231.2600', '2. high': '715191.2700', '3. low': '707490.2212', '4. close': '711480.0000', '5. volume': '371'}, '2025-07-31': {'1. open': '709525.4550', '2. high': '720000.0000', '3. low': '707871.9312', '4. close': '719850.0000', '5. volume': '690'}, '2025-07-30': {'1. open': '713928.2250', '2. high': '717903.1200', '3. low': '710532.0112', '4. close': '714175.0000', '5. volume': '252'}, '2025-07-29': {'1. open': '722344.7150', '2. high': '727376.2500', '3. low': '713704.7200', '4. close': '713704.7200', '5. volume': '553'}, '2025-07-28': {'1. open': '725802.0112', '2. high': '730198.0000', '3. low': '721655.0200', '4. close': '722200.0000', '5. volume': '341'}, '2025-07-25': {'1. open': '723177.5950', '2. high': '727795.7600', '3. low': '720500.0000', '4. close': '726220.0000', '5. volume': '319'}, '2025-07-24': {'1. open': '722187.0112', '2. high': '728708.8800', '3. low': '719922.0000', '4. close': '725700.0000', '5. volume': '636'}, '2025-07-23': {'1. open': '721064.3350', '2. high': '726502.0000', '3. low': '718945.2350', '4. close': '723120.0000', '5. volume': '350'}, '2025-07-22': {'1. open': '714302.6900', '2. high': '724302.4900', '3. low': '712296.1912', '4. close': '714710.0000', '5. volume': '590'}, '2025-07-21': {'1. open': '707742.0112', '2. high': '717525.7199', '3. low': '706022.0100', '4. close': '711000.2000', '5. volume': '439'}, '2025-07-18': {'1. open': '711222.1350', '2. high': '717500.0000', '3. low': '709940.0012', '4. close': '710978.5000', '5. volume': '240'}, '2025-07-17': {'1. open': '705464.5450', '2. high': '711459.3300', '3. low': '702000.0000', '4. close': '709820.0000', '5. volume': '363'}, '2025-07-16': {'1. open': '705933.5700', '2. high': '709160.6600', '3. low': '703573.0750', '4. close': '707681.0000', '5. volume': '312'}, '2025-07-15': {'1. open': '713661.2850', '2. high': '713661.2850', '3. low': '705000.0000', '4. close': '705000.0000', '5. volume': '323'}, '2025-07-14': {'1. open': '711239.6000', '2. high': '717000.0000', '3. low': '710408.8700', '4. close': '711100.0000', '5. volume': '435'}, '2025-07-11': {'1. open': '713276.0012', '2. high': '714712.4900', '3. low': '707758.8350', '4. close': '712842.0000', '5. volume': '349'}, '2025-07-10': {'1. open': '717127.9950', '2. high': '719320.0000', '3. low': '713000.0000', '4. close': '717180.0000', '5. volume': '363'}, '2025-07-09': {'1. open': '716917.9650', '2. high': '719629.4900', '3. low': '714000.0000', '4. close': '719578.0700', '5. volume': '451'}, '2025-07-08': {'1. open': '715959.1450', '2. high': '719501.0000', '3. low': '710200.0000', '4. close': '715269.0000', '5. volume': '392'}, '2025-07-07': {'1. open': '726556.0050', '2. high': '728894.3400', '3. low': '715099.4500', '4. close': '716415.0000', '5. volume': '636'}, '2025-07-03': {'1. open': '721540.7450', '2. high': '729750.0000', '3. low': '720285.4012', '4. close': '727455.0000', '5. volume': '321'}, '2025-07-02': {'1. open': '735310.0800', '2. high': '735310.0800', '3. low': '718034.4512', '4. close': '720500.0000', '5. volume': '536'}, '2025-07-01': {'1. open': '727545.5312', '2. high': '736555.0000', '3. low': '726500.0000', '4. close': '733150.0000', '5. volume': '454'}, '2025-06-30': {'1. open': '730204.2900', '2. high': '731998.9800', '3. low': '726203.0912', '4. close': '728800.0000', '5. volume': '419'}, '2025-06-27': {'1. open': '729163.0300', '2. high': '735000.0000', '3. low': '727296.0412', '4. close': '730939.9000', '5. volume': '410'}, '2025-06-26': {'1. open': '729200.0112', '2. high': '732541.4800', '3. low': '726736.4100', '4. close': '729807.7700', '5. volume': '351'}, '2025-06-25': {'1. open': '742494.6900', '2. high': '742535.4250', '3. low': '730000.0000', '4. close': '730000.0000', '5. volume': '433'}, '2025-06-24': {'1. open': '734118.2500', '2. high': '746549.8832', '3. low': '732425.6212', '4. close': '740085.0000', '5. volume': '424'}, '2025-06-23': {'1. open': '727470.7300', '2. high': '732514.9000', '3. low': '723000.0000', '4. close': '732467.7700', '5. volume': '476'}, '2025-06-20': {'1. open': '727714.5650', '2. high': '730000.0000', '3. low': '725000.0000', '4. close': '730000.0000', '5. volume': '458'}, '2025-06-18': {'1. open': '725380.4350', '2. high': '729509.0200', '3. low': '724297.6712', '4. close': '728200.0000', '5. volume': '253'}, '2025-06-17': {'1. open': '734361.2400', '2. high': '734361.2400', '3. low': '725000.0000', '4. close': '725400.0000', '5. volume': '313'}, '2025-06-16': {'1. open': '733860.0650', '2. high': '737634.1800', '3. low': '732029.5512', '4. close': '735920.0000', '5. volume': '401'}, '2025-06-13': {'1. open': '727532.0712', '2. high': '736312.5156', '3. low': '727532.0712', '4. close': '731220.0000', '5. volume': '395'}, '2025-06-12': {'1. open': '729199.9950', '2. high': '735000.0000', '3. low': '726820.5612', '4. close': '735000.0000', '5. volume': '231'}, '2025-06-11': {'1. open': '737408.4950', '2. high': '739205.0000', '3. low': '730230.0012', '4. close': '732120.0000', '5. volume': '301'}, '2025-06-10': {'1. open': '737601.0212', '2. high': '739511.6800', '3. low': '734336.3200', '4. close': '736000.0000', '5. volume': '319'}, '2025-06-09': {'1. open': '741501.9050', '2. high': '741501.9050', '3. low': '733510.0000', '4. close': '739925.0000', '5. volume': '344'}, '2025-06-06': {'1. open': '735218.4212', '2. high': '743926.2800', '3. low': '735218.4212', '4. close': '740395.5000', '5. volume': '375'}, '2025-06-05': {'1. open': '734037.0112', '2. high': '736585.4450', '3. low': '729050.0344', '4. close': '732953.1900', '5. volume': '440'}, '2025-06-04': {'1. open': '744293.1100', '2. high': '744293.1100', '3. low': '736650.0000', '4. close': '737820.0000', '5. volume': '420'}, '2025-06-03': {'1. open': '751957.9950', '2. high': '753146.4150', '3. low': '740100.0000', '4. close': '746200.0000', '5. volume': '703'}, '2025-06-02': {'1. open': '753279.7350', '2. high': '754740.0000', '3. low': '749040.0012', '4. close': '754740.0000', '5. volume': '555'}, '2025-05-30': {'1. open': '757556.6750', '2. high': '758242.6800', '3. low': '750285.0100', '4. close': '757400.0000', '5. volume': '259'}, '2025-05-29': {'1. open': '756495.2750', '2. high': '759500.0000', '3. low': '752141.8000', '4. close': '758576.8700', '5. volume': '383'}, '2025-05-28': {'1. open': '762238.6200', '2. high': '763222.3600', '3. low': '754345.0000', '4. close': '754820.0000', '5. volume': '311'}, '2025-05-27': {'1. open': '759403.0900', '2. high': '764310.3800', '3. low': '756432.0000', '4. close': '760100.0000', '5. volume': '460'}, '2025-05-23': {'1. open': '750000.0012', '2. high': '758095.4300', '3. low': '750000.0012', '4. close': '754505.0000', '5. volume': '269'}, '2025-05-22': {'1. open': '759109.8300', '2. high': '761894.9700', '3. low': '754383.9550', '4. close': '756250.0000', '5. volume': '319'}, '2025-05-21': {'1. open': '761264.8750', '2. high': '764503.0250', '3. low': '758823.2300', '4. close': '761380.0000', '5. volume': '357'}, '2025-05-20': {'1. open': '767395.5650', '2. high': '768000.0000', '3. low': '760000.0012', '4. close': '762320.0000', '5. volume': '302'}, '2025-05-19': {'1. open': '770318.4850', '2. high': '770318.4850', '3. low': '765000.0012', '4. close': '767200.0000', '5. volume': '327'}, '2025-05-16': {'1. open': '762266.1750', '2. high': '771080.0000', '3. low': '759237.0012', '4. close': '770660.0000', '5. volume': '370'}, '2025-05-15': {'1. open': '753968.8700', '2. high': '764563.3400', '3. low': '751890.2812', '4. close': '759100.0000', '5. volume': '426'}, '2025-05-14': {'1. open': '767777.9050', '2. high': '767777.9050', '3. low': '753215.0000', '4. close': '753215.0000', '5. volume': '597'}, '2025-05-13': {'1. open': '771962.8050', '2. high': '774032.8200', '3. low': '767000.0000', '4. close': '767000.0000', '5. volume': '489'}, '2025-05-12': {'1. open': '779848.5700', '2. high': '779853.2600', '3. low': '765614.5100', '4. close': '772100.0000', '5. volume': '605'}, '2025-05-09': {'1. open': '771753.9300', '2. high': '773960.0000', '3. low': '765611.8000', '4. close': '770999.0000', '5. volume': '343'}, '2025-05-08': {'1. open': '780091.5412', '2. high': '782014.2400', '3. low': '769000.0000', '4. close': '769000.0000', '5. volume': '437'}, '2025-05-07': {'1. open': '773051.6800', '2. high': '780078.1038', '3. low': '770000.0000', '4. close': '778172.7700', '5. volume': '320'}, '2025-05-06': {'1. open': '765368.6400', '2. high': '773351.3350', '3. low': '761930.0012', '4. close': '768000.0000', '5. volume': '416'}, '2025-05-05': {'1. open': '780921.4800', '2. high': '781569.7700', '3. low': '754567.8250', '4. close': '769960.0000', '5. volume': '1210'}, '2025-05-02': {'1. open': '803783.3512', '2. high': '812855.0000', '3. low': '802875.0012', '4. close': '809350.0000', '5. volume': '531'}, '2025-05-01': {'1. open': '798237.3450', '2. high': '799620.0000', '3. low': '792771.6950', '4. close': '795400.0000', '5. volume': '413'}, '2025-04-30': {'1. open': '798258.1900', '2. high': '803232.0000', '3. low': '786414.2450', '4. close': '800540.0000', '5. volume': '549'}, '2025-04-29': {'1. open': '798288.2450', '2. high': '802867.5814', '3. low': '792770.5000', '4. close': '801340.0000', '5. volume': '491'}, '2025-04-28': {'1. open': '800630.2800', '2. high': '804977.0534', '3. low': '790120.0012', '4. close': '797750.0000', '5. volume': '518'}, '2025-04-25': {'1. open': '797962.7000', '2. high': '798000.0000', '3. low': '790777.7850', '4. close': '795760.0000', '5. volume': '326'}, '2025-04-24': {'1. open': '789723.5700', '2. high': '799022.2100', '3. low': '785588.9700', '4. close': '797140.0000', '5. volume': '423'}, '2025-04-23': {'1. open': '792085.7700', '2. high': '798100.0000', '3. low': '786000.0000', '4. close': '788799.0000', '5. volume': '477'}, '2025-04-22': {'1. open': '770395.6950', '2. high': '782933.9900', '3. low': '767526.0412', '4. close': '780000.0000', '5. volume': '417'}, '2025-04-21': {'1. open': '775234.5650', '2. high': '777363.2700', '3. low': '748383.2500', '4. close': '760489.0000', '5. volume': '513'}, '2025-04-17': {'1. open': '777940.5600', '2. high': '785888.0000', '3. low': '772939.8950', '4. close': '778832.7700', '5. volume': '288'}, '2025-04-16': {'1. open': '794255.8900', '2. high': '794950.0000', '3. low': '769940.7550', '4. close': '774261.0000', '5. volume': '471'}, '2025-04-15': {'1. open': '799708.6050', '2. high': '803560.0000', '3. low': '791250.0000', '4. close': '792500.0000', '5. volume': '397'}, '2025-04-14': {'1. open': '796353.7912', '2. high': '804250.2900', '3. low': '790050.0400', '4. close': '793787.5400', '5. volume': '731'}, '2025-04-11': {'1. open': '775969.2400', '2. high': '789300.0000', '3. low': '766666.0000', '4. close': '784000.0000', '5. volume': '635'}, '2025-04-10': {'1. open': '777791.2400', '2. high': '780269.4900', '3. low': '747842.0112', '4. close': '774000.0000', '5. volume': '598'}, '2025-04-09': {'1. open': '738283.3950', '2. high': '784889.5000', '3. low': '727961.9200', '4. close': '778421.0000', '5. volume': '890'}, '2025-04-08': {'1. open': '763357.1450', '2. high': '773909.7500', '3. low': '726480.5000', '4. close': '739100.5900', '5. volume': '911'}, '2025-04-07': {'1. open': '702098.4850', '2. high': '757492.8200', '3. low': '695517.0000', '4. close': '737000.0000', '5. volume': '1907'}, '2025-04-04': {'1. open': '776929.4750', '2. high': '779943.5400', '3. low': '739478.1900', '4. close': '742540.0000', '5. volume': '1531'}, '2025-04-03': {'1. open': '790616.0600', '2. high': '807838.4350', '3. low': '786761.0012', '4. close': '794514.0000', '5. volume': '1087'}, '2025-04-02': {'1. open': '797927.3700', '2. high': '808029.5000', '3. low': '795480.2012', '4. close': '806684.0000', '5. volume': '1659'}, '2025-04-01': {'1. open': '798058.2500', '2. high': '804095.7500', '3. low': '791271.7800', '4. close': '800300.0000', '5. volume': '2103'}, '2025-03-31': {'1. open': '781811.2400', '2. high': '804461.4200', '3. low': '778716.0212', '4. close': '798441.6000', '5. volume': '2475'}, '2025-03-28': {'1. open': '803221.5300', '2. high': '803448.7950', '3. low': '787100.0012', '4. close': '790250.0000', '5. volume': '2132'}, '2025-03-27': {'1. open': '798426.6012', '2. high': '805833.2050', '3. low': '794302.8350', '4. close': '801950.0000', '5. volume': '1852'}, '2025-03-26': {'1. open': '796054.1800', '2. high': '806024.0000', '3. low': '794601.0012', '4. close': '798962.5700', '5. volume': '1832'}, '2025-03-25': {'1. open': '790645.2450', '2. high': '799501.9900', '3. low': '788699.9512', '4. close': '792966.0000', '5. volume': '1686'}}}\n"
     ]
    }
   ],
   "source": [
    "print(js)"
   ]
  },
  {
   "cell_type": "code",
   "execution_count": 44,
   "metadata": {},
   "outputs": [
    {
     "name": "stdout",
     "output_type": "stream",
     "text": [
      "Saved data/raw/api_source-alpha_symbol-BRK-A_20250817-174318.csv\n"
     ]
    }
   ],
   "source": [
    "_ = save_csv(df_api.sort_values('date'), prefix='api', source='alpha' if USE_ALPHA else 'yfinance', symbol=SYMBOL)"
   ]
  },
  {
   "cell_type": "markdown",
   "id": "2ef2d852",
   "metadata": {},
   "source": [
    "#### Successfully stored the fetched data into a CSV file in the data/raw folder."
   ]
  },
  {
   "cell_type": "markdown",
   "metadata": {},
   "source": [
    "## Part 2 — Scrape a Public Table (Required)\n",
    "Replace `SCRAPE_URL` with a permitted page containing a simple table."
   ]
  },
  {
   "cell_type": "code",
   "execution_count": 41,
   "metadata": {},
   "outputs": [
    {
     "data": {
      "text/plain": [
       "{'missing': [], 'shape': (25, 12), 'na_total': 25}"
      ]
     },
     "execution_count": 41,
     "metadata": {},
     "output_type": "execute_result"
    }
   ],
   "source": [
    "SCRAPE_URL = 'https://finance.yahoo.com/most-active'  \n",
    "headers = {'User-Agent':'AFE-Homework/1.0'}\n",
    "try:\n",
    "    resp = requests.get(SCRAPE_URL, headers=headers, timeout=30); resp.raise_for_status()\n",
    "    soup = BeautifulSoup(resp.text, 'html.parser')\n",
    "    rows = [[c.get_text(strip=True) for c in tr.find_all(['th','td'])] for tr in soup.find_all('tr')]\n",
    "    header, *data = [r for r in rows if r]\n",
    "    df_scrape = pd.DataFrame(data, columns=header)\n",
    "except Exception as e:\n",
    "    print('Scrape failed, using inline demo table:', e)\n",
    "    html = '<table><tr><th>Ticker</th><th>Price</th></tr><tr><td>AAA</td><td>101.2</td></tr></table>'\n",
    "    soup = BeautifulSoup(html, 'html.parser')\n",
    "    rows = [[c.get_text(strip=True) for c in tr.find_all(['th','td'])] for tr in soup.find_all('tr')]\n",
    "    header, *data = [r for r in rows if r]\n",
    "    df_scrape = pd.DataFrame(data, columns=header)\n",
    "\n",
    "if 'Price' in df_scrape.columns:\n",
    "    df_scrape['Price'] = pd.to_numeric(df_scrape['Price'], errors='coerce')\n",
    "v_scrape = validate(df_scrape, list(df_scrape.columns)); v_scrape"
   ]
  },
  {
   "cell_type": "markdown",
   "id": "553e3e37",
   "metadata": {},
   "source": [
    "### Chose Yfinance tables. Some other tables had errors in their structures while scraping."
   ]
  },
  {
   "cell_type": "code",
   "execution_count": 37,
   "id": "16d53064",
   "metadata": {},
   "outputs": [
    {
     "data": {
      "text/plain": [
       "date     0\n",
       "close    0\n",
       "dtype: int64"
      ]
     },
     "execution_count": 37,
     "metadata": {},
     "output_type": "execute_result"
    }
   ],
   "source": [
    "df_api.isna().sum()\n"
   ]
  },
  {
   "cell_type": "code",
   "execution_count": 38,
   "metadata": {},
   "outputs": [
    {
     "name": "stdout",
     "output_type": "stream",
     "text": [
      "Saved data/raw/scrape_site-example_table-markets_20250817-170528.csv\n"
     ]
    }
   ],
   "source": [
    "_ = save_csv(df_scrape, prefix='scrape', site='example', table='markets')"
   ]
  },
  {
   "cell_type": "markdown",
   "id": "75eafff8",
   "metadata": {},
   "source": [
    "#### Successfully stored the scraped table to a CSV file in the data/raw folder."
   ]
  },
  {
   "cell_type": "markdown",
   "metadata": {},
   "source": [
    "## Documentation\n",
    "- Please go through the README file for proper documentation."
   ]
  }
 ],
 "metadata": {
  "kernelspec": {
   "display_name": "base",
   "language": "python",
   "name": "python3"
  },
  "language_info": {
   "codemirror_mode": {
    "name": "ipython",
    "version": 3
   },
   "file_extension": ".py",
   "mimetype": "text/x-python",
   "name": "python",
   "nbconvert_exporter": "python",
   "pygments_lexer": "ipython3",
   "version": "3.9.18"
  }
 },
 "nbformat": 4,
 "nbformat_minor": 5
}
