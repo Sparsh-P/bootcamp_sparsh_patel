{
 "cells": [
  {
   "cell_type": "markdown",
   "metadata": {},
   "source": [
    "# Stage 13 Homework Starter — Productization\n",
    "Sparsh Patel 08/28/2025\n",
    "## Objective\n",
    "Deploy the trained model as a **reusable, handoff-ready API or dashboard** and finalize your project for reproducibility and clarity."
   ]
  },
  {
   "cell_type": "code",
   "execution_count": 7,
   "id": "5f7f3e90",
   "metadata": {},
   "outputs": [
    {
     "name": "stdout",
     "output_type": "stream",
     "text": [
      "/Users/sparshpatel/bootcamp_sparsh_patel/homework/homework13\n"
     ]
    }
   ],
   "source": [
    "import os\n",
    "os.chdir('/Users/sparshpatel/bootcamp_sparsh_patel/homework/homework13')\n",
    "print(os.getcwd())"
   ]
  },
  {
   "cell_type": "code",
   "execution_count": 3,
   "id": "de958620",
   "metadata": {},
   "outputs": [
    {
     "name": "stdout",
     "output_type": "stream",
     "text": [
      "Collecting utils\n",
      "  Downloading utils-1.0.2.tar.gz (13 kB)\n",
      "  Installing build dependencies ... \u001b[?25ldone\n",
      "\u001b[?25h  Getting requirements to build wheel ... \u001b[?25ldone\n",
      "\u001b[?25h  Preparing metadata (pyproject.toml) ... \u001b[?25ldone\n",
      "\u001b[?25hBuilding wheels for collected packages: utils\n",
      "  Building wheel for utils (pyproject.toml) ... \u001b[?25ldone\n",
      "\u001b[?25h  Created wheel for utils: filename=utils-1.0.2-py2.py3-none-any.whl size=13983 sha256=8d7966cd72a60f4f9cd5ffabd3e910092fdb785d24fb1a56d75280f94ec20ea0\n",
      "  Stored in directory: /Users/sparshpatel/Library/Caches/pip/wheels/b8/39/f5/9d0ca31dba85773ececf0a7f5469f18810e1c8a8ed9da28ca7\n",
      "Successfully built utils\n",
      "Installing collected packages: utils\n",
      "Successfully installed utils-1.0.2\n",
      "\n",
      "\u001b[1m[\u001b[0m\u001b[34;49mnotice\u001b[0m\u001b[1;39;49m]\u001b[0m\u001b[39;49m A new release of pip is available: \u001b[0m\u001b[31;49m24.3.1\u001b[0m\u001b[39;49m -> \u001b[0m\u001b[32;49m25.2\u001b[0m\n",
      "\u001b[1m[\u001b[0m\u001b[34;49mnotice\u001b[0m\u001b[1;39;49m]\u001b[0m\u001b[39;49m To update, run: \u001b[0m\u001b[32;49mpip3 install --upgrade pip\u001b[0m\n",
      "Note: you may need to restart the kernel to use updated packages.\n"
     ]
    }
   ],
   "source": [
    "pip install utils"
   ]
  },
  {
   "cell_type": "markdown",
   "id": "8e003adc",
   "metadata": {},
   "source": [
    "## 1. Create mock, very basic analysis"
   ]
  },
  {
   "cell_type": "code",
   "execution_count": 10,
   "id": "531191db",
   "metadata": {},
   "outputs": [],
   "source": [
    "sys.path.append('/Users/sparshpatel/bootcamp_sparsh_patel/homework/homework13/src')\n",
    "from src.utils import validate_inputs\n"
   ]
  },
  {
   "cell_type": "code",
   "execution_count": null,
   "id": "88fadda7",
   "metadata": {},
   "outputs": [
    {
     "name": "stdout",
     "output_type": "stream",
     "text": [
      "Final dataset: 496 samples, 3 features\n",
      "Target range: $0.01 - $495.83\n",
      "Basic analysis complete.\n"
     ]
    }
   ],
   "source": [
    "import pandas as pd\n",
    "import numpy as np\n",
    "from sklearn.linear_model import LinearRegression\n",
    "from sklearn.model_selection import train_test_split\n",
    "from sklearn.metrics import mean_absolute_error, r2_score\n",
    "import pickle\n",
    "import os\n",
    "import sys\n",
    "\n",
    "\n",
    "sys.path.append('/Users/sparshpatel/bootcamp_sparsh_patel/homework/homework13/src')\n",
    "from src.utils import validate_inputs, calculate_confidence_interval, preprocess_features\n",
    "data_path = '/Users/sparshpatel/bootcamp_sparsh_patel/homework/homework13/data/h13data.csv'\n",
    "df = pd.read_csv(data_path)\n",
    "\n",
    "df['moneyness'] = df['underlying_price'] / df['strike']\n",
    "df['vol_time'] = df['implied_volatility'] * df['time_to_expiry']\n",
    "\n",
    "features = ['implied_volatility', 'moneyness', 'vol_time']\n",
    "target = 'market_price'\n",
    "clean_df = df[features + [target]].dropna()\n",
    "\n",
    "X = clean_df[features]\n",
    "y = clean_df[target]\n",
    "\n",
    "print(f\"Final dataset: {X.shape[0]} samples, {X.shape[1]} features\")\n",
    "print(f\"Target range: ${y.min():.2f} - ${y.max():.2f}\")\n",
    "print(\"Basic analysis complete.\")"
   ]
  },
  {
   "cell_type": "code",
   "execution_count": null,
   "id": "17a38adc",
   "metadata": {},
   "outputs": [
    {
     "name": "stdout",
     "output_type": "stream",
     "text": [
      "Model Performance:\n",
      "MAE: $66.84\n",
      "R²: 0.344\n",
      "Features: ['implied_volatility', 'moneyness', 'vol_time']\n",
      "✓ Test inputs passed validation\n"
     ]
    }
   ],
   "source": [
    "X_train, X_test, y_train, y_test = train_test_split(X, y, test_size=0.2, random_state=42)\n",
    "\n",
    "model = LinearRegression()\n",
    "model.fit(X_train, y_train)\n",
    "\n",
    "y_pred = model.predict(X_test)\n",
    "mae = mean_absolute_error(y_test, y_pred)\n",
    "r2 = r2_score(y_test, y_pred)\n",
    "\n",
    "print(f\"Model Performance:\")\n",
    "print(f\"MAE: ${mae:.2f}\")\n",
    "print(f\"R²: {r2:.3f}\")\n",
    "print(f\"Features: {features}\")\n",
    "\n",
    "test_vol, test_moneyness, test_vol_time = 0.25, 1.05, 0.05\n",
    "validation_errors = validate_inputs(test_vol, test_moneyness, test_vol_time)\n",
    "if validation_errors:\n",
    "    print(f\"Validation errors: {validation_errors}\")\n",
    "else:\n",
    "    print(\"✓ Test inputs passed validation\")"
   ]
  },
  {
   "cell_type": "markdown",
   "metadata": {},
   "source": [
    "## 5. Pickle / Save Final Model\n",
    "\n"
   ]
  },
  {
   "cell_type": "code",
   "execution_count": null,
   "metadata": {},
   "outputs": [
    {
     "name": "stdout",
     "output_type": "stream",
     "text": [
      "Test prediction: $33.39\n",
      "95% CI: $-97.61 - $164.40\n",
      "Model loaded successfully with 3 features\n"
     ]
    },
    {
     "name": "stderr",
     "output_type": "stream",
     "text": [
      "/Library/Frameworks/Python.framework/Versions/3.10/lib/python3.10/site-packages/sklearn/utils/validation.py:2739: UserWarning: X does not have valid feature names, but LinearRegression was fitted with feature names\n",
      "  warnings.warn(\n"
     ]
    }
   ],
   "source": [
    "os.makedirs('/Users/sparshpatel/bootcamp_sparsh_patel/homework/homework13/model', exist_ok=True)\n",
    "\n",
    "\n",
    "model_data = {\n",
    "    'model': model,\n",
    "    'features': features,\n",
    "    'mae': mae,\n",
    "    'r2': r2,\n",
    "    'n_samples': len(X)\n",
    "}\n",
    "\n",
    "with open('/Users/sparshpatel/bootcamp_sparsh_patel/homework/homework13/model/hw13model.pkl', 'wb') as f:\n",
    "    pickle.dump(model_data, f)\n",
    "\n",
    "\n",
    "with open('/Users/sparshpatel/bootcamp_sparsh_patel/homework/homework13/model/hw13model.pkl', 'rb') as f:\n",
    "    loaded_data = pickle.load(f)\n",
    "    loaded_model = loaded_data['model']\n",
    "\n",
    "\n",
    "test_features = [0.25, 1.05, 0.05]  \n",
    "test_pred = loaded_model.predict([test_features])[0]\n",
    "\n",
    "\n",
    "confidence_result = calculate_confidence_interval(test_pred, mae)\n",
    "\n",
    "print(f\"Test prediction: ${test_pred:.2f}\")\n",
    "print(f\"95% CI: ${confidence_result['lower_bound']:.2f} - ${confidence_result['upper_bound']:.2f}\")\n",
    "print(f\"Model loaded successfully with {len(loaded_data['features'])} features\")"
   ]
  },
  {
   "cell_type": "markdown",
   "metadata": {},
   "source": [
    "## 6. Flask API Starter\n",
    "\n",
    " Implement Flask endpoints for /predict and /plot"
   ]
  },
  {
   "cell_type": "code",
   "execution_count": null,
   "id": "03ef3b58",
   "metadata": {},
   "outputs": [],
   "source": [
    "import requests\n",
    "import time\n",
    "\n",
    "\n",
    "test_cases = [\n",
    "    (0.25, 1.05, 0.05),  \n",
    "    (0.25, 1.05, 0.6),   \n",
    "    (3.0, 1.05, 0.05),   \n",
    "    (0.25, 0.3, 0.05),   \n",
    "]\n",
    "\n",
    "print(\"Testing input validation with utils:\")\n",
    "for vol, money, vol_time in test_cases:\n",
    "    errors = validate_inputs(vol, money, vol_time)\n",
    "    status = \"✓ VALID\" if not errors else f\"✗ INVALID: {errors[0]}\"\n",
    "    print(f\"Vol={vol}, Money={money}, VolTime={vol_time} → {status}\")\n",
    "\n",
    "print(\"\\nFlask API Testing:\")\n",
    "print(\"Start the API with: python app.py\")\n",
    "\n",
    "\n",
    "try:\n",
    "\n",
    "    response = requests.get('http://127.0.0.1:5000/predict/0.25/1.05/0.05')\n",
    "    print(f\"✓ API prediction: {response.json()}\")\n",
    "    \n",
    "\n",
    "    response = requests.get('http://127.0.0.1:5000/predict/3.0/1.05/0.05')\n",
    "    print(f\"✗ API validation: {response.json()}\")\n",
    "    \n",
    "\n",
    "    test_data = {'implied_volatility': 0.25, 'moneyness': 1.05, 'vol_time': 0.05}\n",
    "    response = requests.post('http://127.0.0.1:5000/predict', json=test_data)\n",
    "    print(f\"✓ POST prediction: {response.json()}\")\n",
    "except Exception as e:\n",
    "    print(f\"Cheking API  {e}\")"
   ]
  },
  {
   "cell_type": "code",
   "execution_count": null,
   "id": "453c3554",
   "metadata": {},
   "outputs": [],
   "source": []
  }
 ],
 "metadata": {
  "kernelspec": {
   "display_name": "Python 3",
   "language": "python",
   "name": "python3"
  },
  "language_info": {
   "codemirror_mode": {
    "name": "ipython",
    "version": 3
   },
   "file_extension": ".py",
   "mimetype": "text/x-python",
   "name": "python",
   "nbconvert_exporter": "python",
   "pygments_lexer": "ipython3",
   "version": "3.10.2"
  }
 },
 "nbformat": 4,
 "nbformat_minor": 5
}
